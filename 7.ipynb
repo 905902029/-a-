{
  "nbformat": 4,
  "nbformat_minor": 0,
  "metadata": {
    "colab": {
      "name": "Untitled32.ipynb",
      "provenance": [],
      "authorship_tag": "ABX9TyPHr3vfE/tNuKu+F11R6fqY",
      "include_colab_link": true
    },
    "kernelspec": {
      "name": "python3",
      "display_name": "Python 3"
    }
  },
  "cells": [
    {
      "cell_type": "markdown",
      "metadata": {
        "id": "view-in-github",
        "colab_type": "text"
      },
      "source": [
        "<a href=\"https://colab.research.google.com/github/905902029/-a-/blob/master/7.ipynb\" target=\"_parent\"><img src=\"https://colab.research.google.com/assets/colab-badge.svg\" alt=\"Open In Colab\"/></a>"
      ]
    },
    {
      "cell_type": "code",
      "metadata": {
        "id": "Y0tPKpgJPlz7",
        "colab_type": "code",
        "colab": {
          "base_uri": "https://localhost:8080/",
          "height": 53
        },
        "outputId": "51736268-b95c-4650-c1a8-7fe9085696f0"
      },
      "source": [
        "List_A = [1,1,2,5,5,5,8,8,9]\n",
        "print(List_A)\n",
        "List_B = [1,2,2,3,3,3,6,10]\n",
        "print(List_B)"
      ],
      "execution_count": 1,
      "outputs": [
        {
          "output_type": "stream",
          "text": [
            "[1, 1, 2, 5, 5, 5, 8, 8, 9]\n",
            "[1, 2, 2, 3, 3, 3, 6, 10]\n"
          ],
          "name": "stdout"
        }
      ]
    },
    {
      "cell_type": "code",
      "metadata": {
        "id": "2ZMeWZuVP0wp",
        "colab_type": "code",
        "colab": {
          "base_uri": "https://localhost:8080/",
          "height": 53
        },
        "outputId": "61fe1835-003d-4efc-f615-a381c8460bff"
      },
      "source": [
        "\n",
        "List_A_set = set(List_A)\n",
        "print(List_A_set)\n",
        "List_B_set = set(List_B)\n",
        "print(List_B_set)"
      ],
      "execution_count": 3,
      "outputs": [
        {
          "output_type": "stream",
          "text": [
            "{1, 2, 5, 8, 9}\n",
            "{1, 2, 3, 6, 10}\n"
          ],
          "name": "stdout"
        }
      ]
    },
    {
      "cell_type": "code",
      "metadata": {
        "id": "YeJeYHnFP2Xy",
        "colab_type": "code",
        "colab": {
          "base_uri": "https://localhost:8080/",
          "height": 35
        },
        "outputId": "f6241cf3-62a0-41b4-ee70-b101a33cc5b0"
      },
      "source": [
        "List_A_set | List_B_set"
      ],
      "execution_count": 4,
      "outputs": [
        {
          "output_type": "execute_result",
          "data": {
            "text/plain": [
              "{1, 2, 3, 5, 6, 8, 9, 10}"
            ]
          },
          "metadata": {
            "tags": []
          },
          "execution_count": 4
        }
      ]
    },
    {
      "cell_type": "code",
      "metadata": {
        "id": "MRdFsGAVP3bS",
        "colab_type": "code",
        "colab": {
          "base_uri": "https://localhost:8080/",
          "height": 35
        },
        "outputId": "b66cbcc5-cc24-43dc-93bc-18a24a567a23"
      },
      "source": [
        "\n",
        "List_A_set.union(List_B_set)"
      ],
      "execution_count": 5,
      "outputs": [
        {
          "output_type": "execute_result",
          "data": {
            "text/plain": [
              "{1, 2, 3, 5, 6, 8, 9, 10}"
            ]
          },
          "metadata": {
            "tags": []
          },
          "execution_count": 5
        }
      ]
    },
    {
      "cell_type": "code",
      "metadata": {
        "id": "8ARj0YNrP5K2",
        "colab_type": "code",
        "colab": {
          "base_uri": "https://localhost:8080/",
          "height": 35
        },
        "outputId": "68260507-d982-4bab-c565-f9aa8c14d66f"
      },
      "source": [
        "List_A_set & List_B_set"
      ],
      "execution_count": 6,
      "outputs": [
        {
          "output_type": "execute_result",
          "data": {
            "text/plain": [
              "{1, 2}"
            ]
          },
          "metadata": {
            "tags": []
          },
          "execution_count": 6
        }
      ]
    },
    {
      "cell_type": "code",
      "metadata": {
        "id": "-8qQz-7OP6YK",
        "colab_type": "code",
        "colab": {
          "base_uri": "https://localhost:8080/",
          "height": 35
        },
        "outputId": "2ce2bd75-cb03-4c4a-addd-c65741fd95cd"
      },
      "source": [
        "List_A_set.intersection(List_B_set)"
      ],
      "execution_count": 7,
      "outputs": [
        {
          "output_type": "execute_result",
          "data": {
            "text/plain": [
              "{1, 2}"
            ]
          },
          "metadata": {
            "tags": []
          },
          "execution_count": 7
        }
      ]
    },
    {
      "cell_type": "code",
      "metadata": {
        "id": "zVG07TAWP7s7",
        "colab_type": "code",
        "colab": {
          "base_uri": "https://localhost:8080/",
          "height": 35
        },
        "outputId": "d56e4c36-21f0-47b2-fe63-23915773f0c2"
      },
      "source": [
        "List_A_set - List_B_set"
      ],
      "execution_count": 9,
      "outputs": [
        {
          "output_type": "execute_result",
          "data": {
            "text/plain": [
              "{5, 8, 9}"
            ]
          },
          "metadata": {
            "tags": []
          },
          "execution_count": 9
        }
      ]
    },
    {
      "cell_type": "code",
      "metadata": {
        "id": "5KglhmCIP9TF",
        "colab_type": "code",
        "colab": {}
      },
      "source": [
        "List_A_set.difference(List_B_set)"
      ],
      "execution_count": 0,
      "outputs": []
    },
    {
      "cell_type": "code",
      "metadata": {
        "id": "lALRf2YBP-sV",
        "colab_type": "code",
        "colab": {
          "base_uri": "https://localhost:8080/",
          "height": 35
        },
        "outputId": "a8f1960b-7f7b-4dac-dd93-3df579b98b58"
      },
      "source": [
        "\n",
        "List_A_set ^ List_B_set"
      ],
      "execution_count": 10,
      "outputs": [
        {
          "output_type": "execute_result",
          "data": {
            "text/plain": [
              "{3, 5, 6, 8, 9, 10}"
            ]
          },
          "metadata": {
            "tags": []
          },
          "execution_count": 10
        }
      ]
    },
    {
      "cell_type": "code",
      "metadata": {
        "id": "6uPgUWQ4QADQ",
        "colab_type": "code",
        "colab": {
          "base_uri": "https://localhost:8080/",
          "height": 35
        },
        "outputId": "8248c55c-8a76-449d-8fb4-7397947fcc5c"
      },
      "source": [
        "List_A_set.symmetric_difference(List_B_set)"
      ],
      "execution_count": 11,
      "outputs": [
        {
          "output_type": "execute_result",
          "data": {
            "text/plain": [
              "{3, 5, 6, 8, 9, 10}"
            ]
          },
          "metadata": {
            "tags": []
          },
          "execution_count": 11
        }
      ]
    },
    {
      "cell_type": "code",
      "metadata": {
        "id": "7B1bepPWQBhI",
        "colab_type": "code",
        "colab": {
          "base_uri": "https://localhost:8080/",
          "height": 35
        },
        "outputId": "257fcf39-5d89-4131-d61a-34085de358de"
      },
      "source": [
        "\n",
        "numbers = {'いち': 1, 'さん': 3, 'しち': 7, 'に': 2, 'よん': 4, 'はち': 8, 'じゅう': 10, 'ご': 5, 'ろく': 6, 'きゅう': 9}\n",
        "print(numbers)"
      ],
      "execution_count": 16,
      "outputs": [
        {
          "output_type": "stream",
          "text": [
            "{'いち': 1, 'さん': 3, 'しち': 7, 'に': 2, 'よん': 4, 'はち': 8, 'じゅう': 10, 'ご': 5, 'ろく': 6, 'きゅう': 9}\n"
          ],
          "name": "stdout"
        }
      ]
    },
    {
      "cell_type": "code",
      "metadata": {
        "id": "tJUu4Cv2QDYi",
        "colab_type": "code",
        "colab": {
          "base_uri": "https://localhost:8080/",
          "height": 173
        },
        "outputId": "1472a2bb-ed84-4970-ee73-c36257b21b56"
      },
      "source": [
        "print(numbers[1] in numbers)"
      ],
      "execution_count": 17,
      "outputs": [
        {
          "output_type": "error",
          "ename": "KeyError",
          "evalue": "ignored",
          "traceback": [
            "\u001b[0;31m---------------------------------------------------------------------------\u001b[0m",
            "\u001b[0;31mKeyError\u001b[0m                                  Traceback (most recent call last)",
            "\u001b[0;32m<ipython-input-17-2eb30a7a2de2>\u001b[0m in \u001b[0;36m<module>\u001b[0;34m()\u001b[0m\n\u001b[0;32m----> 1\u001b[0;31m \u001b[0mprint\u001b[0m\u001b[0;34m(\u001b[0m\u001b[0mnumbers\u001b[0m\u001b[0;34m[\u001b[0m\u001b[0;36m1\u001b[0m\u001b[0;34m]\u001b[0m \u001b[0;32min\u001b[0m \u001b[0mnumbers\u001b[0m\u001b[0;34m)\u001b[0m\u001b[0;34m\u001b[0m\u001b[0;34m\u001b[0m\u001b[0m\n\u001b[0m",
            "\u001b[0;31mKeyError\u001b[0m: 1"
          ]
        }
      ]
    },
    {
      "cell_type": "code",
      "metadata": {
        "id": "UtcMKWfAQFDJ",
        "colab_type": "code",
        "colab": {
          "base_uri": "https://localhost:8080/",
          "height": 35
        },
        "outputId": "caf7ec00-b7e5-4b69-efdf-fe1b271a6e99"
      },
      "source": [
        "\n",
        "num_keys = len(numbers)\n",
        "print(num_keys)"
      ],
      "execution_count": 18,
      "outputs": [
        {
          "output_type": "stream",
          "text": [
            "10\n"
          ],
          "name": "stdout"
        }
      ]
    },
    {
      "cell_type": "code",
      "metadata": {
        "id": "p684v_TJQG9j",
        "colab_type": "code",
        "colab": {
          "base_uri": "https://localhost:8080/",
          "height": 35
        },
        "outputId": "c77b0f48-7628-4dad-a665-1987eeafc587"
      },
      "source": [
        "contains_ten_k = numbers.get('十')\n",
        "print (contains_ten_k)"
      ],
      "execution_count": 19,
      "outputs": [
        {
          "output_type": "stream",
          "text": [
            "None\n"
          ],
          "name": "stdout"
        }
      ]
    },
    {
      "cell_type": "code",
      "metadata": {
        "id": "_aZD7ZrGQICd",
        "colab_type": "code",
        "colab": {
          "base_uri": "https://localhost:8080/",
          "height": 35
        },
        "outputId": "7a518809-0214-4082-e57f-b903edbb0fb6"
      },
      "source": [
        "contains_ten_k = \"十\" in numbers\n",
        "print(contains_ten_k)"
      ],
      "execution_count": 20,
      "outputs": [
        {
          "output_type": "stream",
          "text": [
            "False\n"
          ],
          "name": "stdout"
        }
      ]
    },
    {
      "cell_type": "code",
      "metadata": {
        "id": "z_KjcZ46QJp3",
        "colab_type": "code",
        "colab": {
          "base_uri": "https://localhost:8080/",
          "height": 35
        },
        "outputId": "acb6925d-06dc-4701-da11-b0d7c32e529c"
      },
      "source": [
        "numbers['じゅういち'] = 11\n",
        "print(numbers)"
      ],
      "execution_count": 21,
      "outputs": [
        {
          "output_type": "stream",
          "text": [
            "{'いち': 1, 'さん': 3, 'しち': 7, 'に': 2, 'よん': 4, 'はち': 8, 'じゅう': 10, 'ご': 5, 'ろく': 6, 'きゅう': 9, 'じゅういち': 11}\n"
          ],
          "name": "stdout"
        }
      ]
    },
    {
      "cell_type": "code",
      "metadata": {
        "id": "29ne8OikQLTm",
        "colab_type": "code",
        "colab": {
          "base_uri": "https://localhost:8080/",
          "height": 35
        },
        "outputId": "9eb63b37-8bfc-4669-eaf3-cd386761b7be"
      },
      "source": [
        "sorted_keys = sorted(numbers.keys())\n",
        "print(sorted_keys)"
      ],
      "execution_count": 23,
      "outputs": [
        {
          "output_type": "stream",
          "text": [
            "['いち', 'きゅう', 'ご', 'さん', 'しち', 'じゅう', 'じゅういち', 'に', 'はち', 'よん', 'ろく']\n"
          ],
          "name": "stdout"
        }
      ]
    },
    {
      "cell_type": "code",
      "metadata": {
        "id": "AY_1IGNtQMU3",
        "colab_type": "code",
        "colab": {
          "base_uri": "https://localhost:8080/",
          "height": 35
        },
        "outputId": "85190a98-0202-4673-d1dc-b30651e4e78c"
      },
      "source": [
        "\n",
        "print(sorted_keys[0])"
      ],
      "execution_count": 24,
      "outputs": [
        {
          "output_type": "stream",
          "text": [
            "いち\n"
          ],
          "name": "stdout"
        }
      ]
    },
    {
      "cell_type": "code",
      "metadata": {
        "id": "85kwGh8FQNZS",
        "colab_type": "code",
        "colab": {
          "base_uri": "https://localhost:8080/",
          "height": 35
        },
        "outputId": "13b77845-3804-4c0f-8895-414da5f008a8"
      },
      "source": [
        "print(sorted_keys[-1])"
      ],
      "execution_count": 25,
      "outputs": [
        {
          "output_type": "stream",
          "text": [
            "ろく\n"
          ],
          "name": "stdout"
        }
      ]
    },
    {
      "cell_type": "code",
      "metadata": {
        "id": "zqvuuQMVQO3_",
        "colab_type": "code",
        "colab": {
          "base_uri": "https://localhost:8080/",
          "height": 35
        },
        "outputId": "38dedc54-2c91-4d3c-d6f7-102c72f697cf"
      },
      "source": [
        "sorted_values = sorted(numbers.values())\n",
        "print(sorted_values)"
      ],
      "execution_count": 26,
      "outputs": [
        {
          "output_type": "stream",
          "text": [
            "[1, 2, 3, 4, 5, 6, 7, 8, 9, 10, 11]\n"
          ],
          "name": "stdout"
        }
      ]
    },
    {
      "cell_type": "code",
      "metadata": {
        "id": "yk3d6CQ9QQHR",
        "colab_type": "code",
        "colab": {
          "base_uri": "https://localhost:8080/",
          "height": 35
        },
        "outputId": "1ee7a4fa-c887-439e-a3ca-cf8e5e9c15ad"
      },
      "source": [
        "print(sorted_values[0])"
      ],
      "execution_count": 27,
      "outputs": [
        {
          "output_type": "stream",
          "text": [
            "1\n"
          ],
          "name": "stdout"
        }
      ]
    },
    {
      "cell_type": "code",
      "metadata": {
        "id": "Jypl3JqTQRKn",
        "colab_type": "code",
        "colab": {
          "base_uri": "https://localhost:8080/",
          "height": 35
        },
        "outputId": "ef06f312-6182-4e02-d9f4-232c2719227f"
      },
      "source": [
        "numbers[\"きゅう\"]"
      ],
      "execution_count": 28,
      "outputs": [
        {
          "output_type": "execute_result",
          "data": {
            "text/plain": [
              "9"
            ]
          },
          "metadata": {
            "tags": []
          },
          "execution_count": 28
        }
      ]
    },
    {
      "cell_type": "code",
      "metadata": {
        "id": "1pDiy1EJQUFn",
        "colab_type": "code",
        "colab": {
          "base_uri": "https://localhost:8080/",
          "height": 71
        },
        "outputId": "b752ac49-402b-4a73-8318-69555466b9b5"
      },
      "source": [
        "print(\"please insert any numbers\")\n",
        "x = input()\n",
        "x = int(x)\n",
        "\n",
        "if x == 0:\n",
        "    print(x, \"is zero\")\n",
        "elif x > 0:\n",
        "    print(x, \"is positive\")\n",
        "elif x < 0:\n",
        "    print(x, \"is negative\")\n",
        "else:\n",
        "    print(x, \"is None\")"
      ],
      "execution_count": 29,
      "outputs": [
        {
          "output_type": "stream",
          "text": [
            "please insert any numbers\n",
            "4\n",
            "4 is positive\n"
          ],
          "name": "stdout"
        }
      ]
    },
    {
      "cell_type": "code",
      "metadata": {
        "id": "xNOrUOsNQX91",
        "colab_type": "code",
        "colab": {
          "base_uri": "https://localhost:8080/",
          "height": 107
        },
        "outputId": "572a4fed-0b2a-47bf-c915-c0cbe1bee4c4"
      },
      "source": [
        "print(\"Please put country name (Japan, Malaysia, UK, Europe, USA):\")\n",
        "country = input()\n",
        "print(\"Please put the raw price of each good:\")\n",
        "raw_price_of_good = input()\n",
        "raw_price_of_good = int(raw_price_of_good)\n",
        "\n",
        "if country == 'Japan':\n",
        "    tax_amount = 0.08\n",
        "    total_cost = raw_price_of_good * (1+tax_amount)\n",
        "    total_cost = round(total_cost, 2)\n",
        "    result = \"You need to pay {} because you are from {}\".format(total_cost, country)\n",
        "elif country == 'Malaysia':\n",
        "    tax_amount = 0.06\n",
        "    total_cost = raw_price_of_good * (1+tax_amount)\n",
        "    total_cost = round(total_cost, 2)\n",
        "    result = \"You need to pay {} because you are from {}\".format(total_cost, country)\n",
        "elif country == 'UK':\n",
        "    tax_amount = 0.14\n",
        "    total_cost = raw_price_of_good * (1+tax_amount)\n",
        "    total_cost = round(total_cost, 2)\n",
        "    result = \"You need to pay {} because you are from {}\".format(total_cost, country)\n",
        "elif country == 'USA':\n",
        "    tax_amount = 0.05\n",
        "    total_cost = raw_price_of_good * (1+tax_amount)\n",
        "    total_cost = round(total_cost, 2)\n",
        "    result = \"You need to pay {} because you are from {}\".format(total_cost, country)\n",
        "else:\n",
        "    tax_amount = 0.20\n",
        "    total_cost = raw_price_of_good * (1+tax_amount)\n",
        "    total_cost = round(total_cost, 2)\n",
        "    result = \"You need to pay {} because you are from {}\".format(total_cost, country)\n",
        "\n",
        "print(result)"
      ],
      "execution_count": 30,
      "outputs": [
        {
          "output_type": "stream",
          "text": [
            "Please put country name (Japan, Malaysia, UK, Europe, USA):\n",
            "usa\n",
            "Please put the raw price of each good:\n",
            "5\n",
            "You need to pay 6.0 because you are from usa\n"
          ],
          "name": "stdout"
        }
      ]
    }
  ]
}