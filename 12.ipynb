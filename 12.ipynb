{
  "nbformat": 4,
  "nbformat_minor": 0,
  "metadata": {
    "colab": {
      "name": "Untitled37.ipynb",
      "provenance": [],
      "authorship_tag": "ABX9TyNdxAZf0eOefqFhmCGKFa5b",
      "include_colab_link": true
    },
    "kernelspec": {
      "name": "python3",
      "display_name": "Python 3"
    }
  },
  "cells": [
    {
      "cell_type": "markdown",
      "metadata": {
        "id": "view-in-github",
        "colab_type": "text"
      },
      "source": [
        "<a href=\"https://colab.research.google.com/github/905902029/-a-/blob/master/12.ipynb\" target=\"_parent\"><img src=\"https://colab.research.google.com/assets/colab-badge.svg\" alt=\"Open In Colab\"/></a>"
      ]
    },
    {
      "cell_type": "code",
      "metadata": {
        "id": "_Z2ltRnsVloh",
        "colab_type": "code",
        "colab": {
          "base_uri": "https://localhost:8080/",
          "height": 89
        },
        "outputId": "91dd162f-be76-4a59-ae39-dfcc5bf1d7e1"
      },
      "source": [
        "# for ループを使う\n",
        "\n",
        "def fact(n):\n",
        "    product = 1\n",
        "    for i in range(n):\n",
        "        product = product * (i+1)\n",
        "    return product\n",
        "\n",
        "print(fact(4))\n",
        "%timeit fact(4)\n",
        "%timeit fact(50)"
      ],
      "execution_count": 1,
      "outputs": [
        {
          "output_type": "stream",
          "text": [
            "24\n",
            "The slowest run took 6.84 times longer than the fastest. This could mean that an intermediate result is being cached.\n",
            "1000000 loops, best of 3: 478 ns per loop\n",
            "100000 loops, best of 3: 3.5 µs per loop\n"
          ],
          "name": "stdout"
        }
      ]
    },
    {
      "cell_type": "code",
      "metadata": {
        "id": "AaV8pST8VnVs",
        "colab_type": "code",
        "colab": {
          "base_uri": "https://localhost:8080/",
          "height": 89
        },
        "outputId": "8f18f3c1-7f13-4768-c65e-d2d680a1b302"
      },
      "source": [
        "#if else 条件付き文使う\n",
        "\n",
        "def fact2 (n):\n",
        "    if n == 0:\n",
        "        return 1\n",
        "    else:\n",
        "        return n * fact2(n-1)\n",
        "\n",
        "print(fact2(4))\n",
        "%timeit fact2(4)\n",
        "%timeit fact2(50)"
      ],
      "execution_count": 2,
      "outputs": [
        {
          "output_type": "stream",
          "text": [
            "24\n",
            "The slowest run took 4.84 times longer than the fastest. This could mean that an intermediate result is being cached.\n",
            "1000000 loops, best of 3: 578 ns per loop\n",
            "100000 loops, best of 3: 8.19 µs per loop\n"
          ],
          "name": "stdout"
        }
      ]
    },
    {
      "cell_type": "code",
      "metadata": {
        "id": "1HkfFKfCVxrV",
        "colab_type": "code",
        "colab": {
          "base_uri": "https://localhost:8080/",
          "height": 395
        },
        "outputId": "40ce8e40-209e-46ac-f03e-f821ff84f7c8"
      },
      "source": [
        "class Stack:\n",
        "    def __init__(self):\n",
        "        self.items = []\n",
        " \n",
        "    def is_empty(self):\n",
        "        return self.items == []\n",
        " \n",
        "    def push(self, data):\n",
        "        self.items.append(data)\n",
        " \n",
        "    def pop(self):\n",
        "        return self.items.pop()\n",
        " \n",
        " \n",
        "s = Stack()\n",
        "while True:\n",
        "    print('push <value>')\n",
        "    print('pop')\n",
        "    print('quit')\n",
        "    do = input('What would you like to do? ').split()\n",
        " \n",
        "    operation = do[0].strip().lower()\n",
        "    if operation == 'push':\n",
        "        s.push(int(do[1]))\n",
        "    elif operation == 'pop':\n",
        "        if s.is_empty():\n",
        "            print('Stack is empty.')\n",
        "        else:\n",
        "            print('Popped value: ', s.pop())\n",
        "    elif operation == 'quit':\n",
        "        break"
      ],
      "execution_count": 3,
      "outputs": [
        {
          "output_type": "stream",
          "text": [
            "push <value>\n",
            "pop\n",
            "quit\n",
            "What would you like to do? push 2\n",
            "push <value>\n",
            "pop\n",
            "quit\n",
            "What would you like to do? push 5\n",
            "push <value>\n",
            "pop\n",
            "quit\n",
            "What would you like to do? push 3\n",
            "push <value>\n",
            "pop\n",
            "quit\n",
            "What would you like to do? pop\n",
            "Popped value:  3\n",
            "push <value>\n",
            "pop\n",
            "quit\n",
            "What would you like to do? quit\n"
          ],
          "name": "stdout"
        }
      ]
    },
    {
      "cell_type": "code",
      "metadata": {
        "id": "EWnMq_S_VzDY",
        "colab_type": "code",
        "colab": {
          "base_uri": "https://localhost:8080/",
          "height": 89
        },
        "outputId": "95c6a202-48a9-4656-d0a7-451642327c84"
      },
      "source": [
        "stack = [\"1\", \"2\", \"3\"]\n",
        "stack.append(\"4\")\n",
        "print(stack)\n",
        "print(stack.pop())\n",
        "stack.append(\"5\")\n",
        "print(stack)\n",
        "print(stack.pop())"
      ],
      "execution_count": 4,
      "outputs": [
        {
          "output_type": "stream",
          "text": [
            "['1', '2', '3', '4']\n",
            "4\n",
            "['1', '2', '3', '5']\n",
            "5\n"
          ],
          "name": "stdout"
        }
      ]
    },
    {
      "cell_type": "code",
      "metadata": {
        "id": "mtkAyjPjV1mq",
        "colab_type": "code",
        "colab": {}
      },
      "source": [
        "#以下の解答例はUacity Data Structure and Algorithms Python Course で参考し、引用した\n",
        "\n",
        "class Queue():\n",
        "    def __init__(self, head=None):\n",
        "        self.storage = [head]\n",
        "\n",
        "    def enqueue(self, new_element):\n",
        "        self.storage.append(new_element)\n",
        "\n",
        "    def peek(self):\n",
        "        return self.storage[0]\n",
        "\n",
        "    def dequeue(self):\n",
        "        return self.storage.pop(0)"
      ],
      "execution_count": 0,
      "outputs": []
    },
    {
      "cell_type": "code",
      "metadata": {
        "id": "yJA9RlADV283",
        "colab_type": "code",
        "colab": {
          "base_uri": "https://localhost:8080/",
          "height": 125
        },
        "outputId": "ab7e38af-d640-432b-d535-b8eb4c520644"
      },
      "source": [
        "\n",
        "q = Queue(1)\n",
        "q.enqueue(2)\n",
        "q.enqueue(3)\n",
        "\n",
        "# テスト、値は１\n",
        "print (q.peek())\n",
        "\n",
        "# dequeのテスト、値は１\n",
        "print (q.dequeue())\n",
        "\n",
        "# enqueue\n",
        "q.enqueue(4)\n",
        "print (q.dequeue())\n",
        "print (q.dequeue())\n",
        "print (q.dequeue())\n",
        "q.enqueue(5)\n",
        "print (q.peek())"
      ],
      "execution_count": 7,
      "outputs": [
        {
          "output_type": "stream",
          "text": [
            "1\n",
            "1\n",
            "2\n",
            "3\n",
            "4\n",
            "5\n"
          ],
          "name": "stdout"
        }
      ]
    },
    {
      "cell_type": "code",
      "metadata": {
        "id": "Lk6CXwm2V4iT",
        "colab_type": "code",
        "colab": {
          "base_uri": "https://localhost:8080/",
          "height": 125
        },
        "outputId": "efe3b7f8-3d22-4054-f343-6680f46486a1"
      },
      "source": [
        "from collections import deque\n",
        "queue = deque ([\"1\", \"2\", \"3\", \"4\"])\n",
        "print(queue)\n",
        "queue.append(\"5\")\n",
        "print(queue)\n",
        "queue.append(\"6\")\n",
        "print(queue)\n",
        "print(queue.popleft())\n",
        "print(queue.popleft())\n",
        "print(queue)"
      ],
      "execution_count": 8,
      "outputs": [
        {
          "output_type": "stream",
          "text": [
            "deque(['1', '2', '3', '4'])\n",
            "deque(['1', '2', '3', '4', '5'])\n",
            "deque(['1', '2', '3', '4', '5', '6'])\n",
            "1\n",
            "2\n",
            "deque(['3', '4', '5', '6'])\n"
          ],
          "name": "stdout"
        }
      ]
    }
  ]
}