{
  "nbformat": 4,
  "nbformat_minor": 0,
  "metadata": {
    "colab": {
      "name": "Untitled30.ipynb",
      "provenance": [],
      "authorship_tag": "ABX9TyO0qqOIriwRsIVgx4HSULdJ",
      "include_colab_link": true
    },
    "kernelspec": {
      "name": "python3",
      "display_name": "Python 3"
    }
  },
  "cells": [
    {
      "cell_type": "markdown",
      "metadata": {
        "id": "view-in-github",
        "colab_type": "text"
      },
      "source": [
        "<a href=\"https://colab.research.google.com/github/905902029/-a-/blob/master/5.ipynb\" target=\"_parent\"><img src=\"https://colab.research.google.com/assets/colab-badge.svg\" alt=\"Open In Colab\"/></a>"
      ]
    },
    {
      "cell_type": "markdown",
      "metadata": {
        "id": "m0a5ImyvLJQi",
        "colab_type": "text"
      },
      "source": [
        "a = 2とすると、a+2は？"
      ]
    },
    {
      "cell_type": "code",
      "metadata": {
        "id": "9BzWMuunLKi6",
        "colab_type": "code",
        "colab": {
          "base_uri": "https://localhost:8080/",
          "height": 35
        },
        "outputId": "9f63905e-3f9b-466e-d54d-0a883286c2ba"
      },
      "source": [
        "a = 2\n",
        "a += 2\n",
        "print(a)"
      ],
      "execution_count": 1,
      "outputs": [
        {
          "output_type": "stream",
          "text": [
            "4\n"
          ],
          "name": "stdout"
        }
      ]
    },
    {
      "cell_type": "markdown",
      "metadata": {
        "id": "tuZr6BiRLOvD",
        "colab_type": "text"
      },
      "source": [
        "b=5とすると、$a \\times b$は？"
      ]
    },
    {
      "cell_type": "code",
      "metadata": {
        "id": "tICFp22kLQ7R",
        "colab_type": "code",
        "colab": {
          "base_uri": "https://localhost:8080/",
          "height": 35
        },
        "outputId": "31165dda-e572-4f72-894c-605461a65e73"
      },
      "source": [
        "b = 5\n",
        "b *= a\n",
        "print (b)"
      ],
      "execution_count": 2,
      "outputs": [
        {
          "output_type": "stream",
          "text": [
            "20\n"
          ],
          "name": "stdout"
        }
      ]
    },
    {
      "cell_type": "markdown",
      "metadata": {
        "id": "74sf6_nVLTcv",
        "colab_type": "text"
      },
      "source": [
        "c=10とすると、$c^b$は？"
      ]
    },
    {
      "cell_type": "code",
      "metadata": {
        "id": "VUhS07VbLTz8",
        "colab_type": "code",
        "colab": {
          "base_uri": "https://localhost:8080/",
          "height": 35
        },
        "outputId": "6f41cb7c-71d8-4011-89d2-57992e294f54"
      },
      "source": [
        "c = 10\n",
        "c **= b\n",
        "print(c)"
      ],
      "execution_count": 3,
      "outputs": [
        {
          "output_type": "stream",
          "text": [
            "100000000000000000000\n"
          ],
          "name": "stdout"
        }
      ]
    },
    {
      "cell_type": "markdown",
      "metadata": {
        "id": "UNYO7a-TLXEm",
        "colab_type": "text"
      },
      "source": [
        "以下からどれが奇数か見せなさい。\n",
        "a) 13 b) 72 c) 255"
      ]
    },
    {
      "cell_type": "code",
      "metadata": {
        "id": "SHi_gcmwLXjK",
        "colab_type": "code",
        "colab": {
          "base_uri": "https://localhost:8080/",
          "height": 35
        },
        "outputId": "60c0ff3e-c708-4d66-aef6-73ea8f5063da"
      },
      "source": [
        "13 % 2 == 1"
      ],
      "execution_count": 4,
      "outputs": [
        {
          "output_type": "execute_result",
          "data": {
            "text/plain": [
              "True"
            ]
          },
          "metadata": {
            "tags": []
          },
          "execution_count": 4
        }
      ]
    },
    {
      "cell_type": "code",
      "metadata": {
        "id": "uy5kp42NLeU0",
        "colab_type": "code",
        "colab": {
          "base_uri": "https://localhost:8080/",
          "height": 35
        },
        "outputId": "bf3e62e8-e169-4c2a-a1ed-9ad1c95f18bd"
      },
      "source": [
        "72 % 2 == 1"
      ],
      "execution_count": 5,
      "outputs": [
        {
          "output_type": "execute_result",
          "data": {
            "text/plain": [
              "False"
            ]
          },
          "metadata": {
            "tags": []
          },
          "execution_count": 5
        }
      ]
    },
    {
      "cell_type": "code",
      "metadata": {
        "id": "OwfzHTSTLe7Q",
        "colab_type": "code",
        "colab": {
          "base_uri": "https://localhost:8080/",
          "height": 35
        },
        "outputId": "49f45e19-41c0-4e12-c25c-e429106fe6a3"
      },
      "source": [
        "255 % 2 == 1"
      ],
      "execution_count": 6,
      "outputs": [
        {
          "output_type": "execute_result",
          "data": {
            "text/plain": [
              "True"
            ]
          },
          "metadata": {
            "tags": []
          },
          "execution_count": 6
        }
      ]
    },
    {
      "cell_type": "markdown",
      "metadata": {
        "id": "yC7KXj4ELiXV",
        "colab_type": "text"
      },
      "source": [
        "63は50から100にあるかどうか確認してください。"
      ]
    },
    {
      "cell_type": "code",
      "metadata": {
        "id": "MegMgyjrLlkZ",
        "colab_type": "code",
        "colab": {
          "base_uri": "https://localhost:8080/",
          "height": 35
        },
        "outputId": "010ac567-341c-4261-ae37-ecef7326a171"
      },
      "source": [
        "a = 63\n",
        "50 < a < 100"
      ],
      "execution_count": 7,
      "outputs": [
        {
          "output_type": "execute_result",
          "data": {
            "text/plain": [
              "True"
            ]
          },
          "metadata": {
            "tags": []
          },
          "execution_count": 7
        }
      ]
    },
    {
      "cell_type": "markdown",
      "metadata": {
        "id": "OOzd4sfILnhh",
        "colab_type": "text"
      },
      "source": [
        "xは6とすると、xは1から7の間にあるかどうか確認してください。但し、and演算を使ってください。"
      ]
    },
    {
      "cell_type": "code",
      "metadata": {
        "id": "JZTwcikJLpbV",
        "colab_type": "code",
        "colab": {
          "base_uri": "https://localhost:8080/",
          "height": 35
        },
        "outputId": "54488b47-6057-4e9a-e3a6-d6eab6f4157f"
      },
      "source": [
        "x = 6\n",
        "(x >= 1) and (x <= 7)"
      ],
      "execution_count": 8,
      "outputs": [
        {
          "output_type": "execute_result",
          "data": {
            "text/plain": [
              "True"
            ]
          },
          "metadata": {
            "tags": []
          },
          "execution_count": 8
        }
      ]
    },
    {
      "cell_type": "markdown",
      "metadata": {
        "id": "Auh_GDOWLtUy",
        "colab_type": "text"
      },
      "source": [
        "上記の解決方法を参考して、and演算子をorに変えてください。また、7を5に変更してください。"
      ]
    },
    {
      "cell_type": "code",
      "metadata": {
        "id": "52BOMF8lLu1X",
        "colab_type": "code",
        "colab": {
          "base_uri": "https://localhost:8080/",
          "height": 35
        },
        "outputId": "020addc1-de7d-4369-f666-4741849e7431"
      },
      "source": [
        "\n",
        "(x <= 1) or (x >= 5)"
      ],
      "execution_count": 9,
      "outputs": [
        {
          "output_type": "execute_result",
          "data": {
            "text/plain": [
              "True"
            ]
          },
          "metadata": {
            "tags": []
          },
          "execution_count": 9
        }
      ]
    },
    {
      "cell_type": "markdown",
      "metadata": {
        "id": "BomZyXGQLwG6",
        "colab_type": "text"
      },
      "source": [
        "\n",
        "x < 1を使って、not演算子をその前に入れてください。"
      ]
    },
    {
      "cell_type": "code",
      "metadata": {
        "id": "0HUIhH48LyX4",
        "colab_type": "code",
        "colab": {
          "base_uri": "https://localhost:8080/",
          "height": 35
        },
        "outputId": "0f0c231c-d29c-4a0c-e244-ba82ee05e8c5"
      },
      "source": [
        "\n",
        "not (x < 1)"
      ],
      "execution_count": 10,
      "outputs": [
        {
          "output_type": "execute_result",
          "data": {
            "text/plain": [
              "True"
            ]
          },
          "metadata": {
            "tags": []
          },
          "execution_count": 10
        }
      ]
    },
    {
      "cell_type": "markdown",
      "metadata": {
        "id": "SGfTMu92L0rI",
        "colab_type": "text"
      },
      "source": [
        "a= [4,5,6] , b=[4,5,6]とすると、a==b？a is b? a is not b? 確認してください。つまり、aはbと等しい？"
      ]
    },
    {
      "cell_type": "code",
      "metadata": {
        "id": "4DGDW7InL2qd",
        "colab_type": "code",
        "colab": {
          "base_uri": "https://localhost:8080/",
          "height": 35
        },
        "outputId": "67305e2f-5d37-46b3-9e7f-6158485ee2cc"
      },
      "source": [
        "a = [4,5,6]\n",
        "b = [4,5,6]\n",
        "a==b\n"
      ],
      "execution_count": 12,
      "outputs": [
        {
          "output_type": "execute_result",
          "data": {
            "text/plain": [
              "False"
            ]
          },
          "metadata": {
            "tags": []
          },
          "execution_count": 12
        }
      ]
    },
    {
      "cell_type": "code",
      "metadata": {
        "id": "_vp2l005L-cP",
        "colab_type": "code",
        "colab": {
          "base_uri": "https://localhost:8080/",
          "height": 35
        },
        "outputId": "c0bb9598-250c-4a8c-dbce-ad117832c1c5"
      },
      "source": [
        "\n",
        "a is b"
      ],
      "execution_count": 13,
      "outputs": [
        {
          "output_type": "execute_result",
          "data": {
            "text/plain": [
              "False"
            ]
          },
          "metadata": {
            "tags": []
          },
          "execution_count": 13
        }
      ]
    },
    {
      "cell_type": "code",
      "metadata": {
        "id": "AYbARu9LMBDL",
        "colab_type": "code",
        "colab": {
          "base_uri": "https://localhost:8080/",
          "height": 35
        },
        "outputId": "9aae59f4-f29d-4eb1-8615-1d3e2c3cba97"
      },
      "source": [
        "\n",
        "a is not b"
      ],
      "execution_count": 14,
      "outputs": [
        {
          "output_type": "execute_result",
          "data": {
            "text/plain": [
              "True"
            ]
          },
          "metadata": {
            "tags": []
          },
          "execution_count": 14
        }
      ]
    },
    {
      "cell_type": "markdown",
      "metadata": {
        "id": "Z-Rudb04MFpD",
        "colab_type": "text"
      },
      "source": [
        "等しいものはどうやって示すか？"
      ]
    },
    {
      "cell_type": "code",
      "metadata": {
        "id": "n9M5EzMBMHYK",
        "colab_type": "code",
        "colab": {
          "base_uri": "https://localhost:8080/",
          "height": 35
        },
        "outputId": "ba6e732c-4b1d-40a9-a8a9-1f331738115f"
      },
      "source": [
        "a = [4,5,6]\n",
        "b = a\n",
        "a is b"
      ],
      "execution_count": 15,
      "outputs": [
        {
          "output_type": "execute_result",
          "data": {
            "text/plain": [
              "True"
            ]
          },
          "metadata": {
            "tags": []
          },
          "execution_count": 15
        }
      ]
    },
    {
      "cell_type": "markdown",
      "metadata": {
        "id": "zNFFepolMI82",
        "colab_type": "text"
      },
      "source": [
        "\n",
        "4はaの中にあるか？5はaの中にあるか？"
      ]
    },
    {
      "cell_type": "code",
      "metadata": {
        "id": "MF3s9ewcMKM1",
        "colab_type": "code",
        "colab": {
          "base_uri": "https://localhost:8080/",
          "height": 35
        },
        "outputId": "c8833849-c346-47d5-c6f5-366ae22db053"
      },
      "source": [
        "4 in a"
      ],
      "execution_count": 16,
      "outputs": [
        {
          "output_type": "execute_result",
          "data": {
            "text/plain": [
              "True"
            ]
          },
          "metadata": {
            "tags": []
          },
          "execution_count": 16
        }
      ]
    },
    {
      "cell_type": "code",
      "metadata": {
        "id": "8g7_26ZDMLwp",
        "colab_type": "code",
        "colab": {
          "base_uri": "https://localhost:8080/",
          "height": 35
        },
        "outputId": "a0dcd4bb-05ef-4004-9959-963705e1a0c3"
      },
      "source": [
        "5 not in a"
      ],
      "execution_count": 17,
      "outputs": [
        {
          "output_type": "execute_result",
          "data": {
            "text/plain": [
              "False"
            ]
          },
          "metadata": {
            "tags": []
          },
          "execution_count": 17
        }
      ]
    },
    {
      "cell_type": "markdown",
      "metadata": {
        "id": "INTFqQDAMNuw",
        "colab_type": "text"
      },
      "source": [
        "以下の変数のタイプを示しなさい。\n",
        "a. x = 1\n",
        "b. x = 1.5"
      ]
    },
    {
      "cell_type": "code",
      "metadata": {
        "id": "ShkVEaKqMP3x",
        "colab_type": "code",
        "colab": {
          "base_uri": "https://localhost:8080/",
          "height": 35
        },
        "outputId": "dd34bfc9-fb81-40e4-99da-ed16bd94e7a2"
      },
      "source": [
        "x=1\n",
        "type(x)\n"
      ],
      "execution_count": 18,
      "outputs": [
        {
          "output_type": "execute_result",
          "data": {
            "text/plain": [
              "int"
            ]
          },
          "metadata": {
            "tags": []
          },
          "execution_count": 18
        }
      ]
    },
    {
      "cell_type": "code",
      "metadata": {
        "id": "l7PATZOtMUpI",
        "colab_type": "code",
        "colab": {
          "base_uri": "https://localhost:8080/",
          "height": 35
        },
        "outputId": "049eaaca-72c2-4077-b753-860d7a33952d"
      },
      "source": [
        "x = 1.5\n",
        "type(x)"
      ],
      "execution_count": 19,
      "outputs": [
        {
          "output_type": "execute_result",
          "data": {
            "text/plain": [
              "float"
            ]
          },
          "metadata": {
            "tags": []
          },
          "execution_count": 19
        }
      ]
    },
    {
      "cell_type": "markdown",
      "metadata": {
        "id": "7A-XJiHSMXIf",
        "colab_type": "text"
      },
      "source": [
        "7\\3 の答えはなんですか？"
      ]
    },
    {
      "cell_type": "code",
      "metadata": {
        "id": "UKLt3T4bMa0x",
        "colab_type": "code",
        "colab": {
          "base_uri": "https://localhost:8080/",
          "height": 35
        },
        "outputId": "47ee485f-f27a-4d63-d9b2-81f8df48a4c8"
      },
      "source": [
        "print(7/3)"
      ],
      "execution_count": 20,
      "outputs": [
        {
          "output_type": "stream",
          "text": [
            "2.3333333333333335\n"
          ],
          "name": "stdout"
        }
      ]
    },
    {
      "cell_type": "markdown",
      "metadata": {
        "id": "Tw_A26PVMdAp",
        "colab_type": "text"
      },
      "source": [
        "7/3の答えを整数にしてください。"
      ]
    },
    {
      "cell_type": "code",
      "metadata": {
        "id": "zPI9h4L9MhUi",
        "colab_type": "code",
        "colab": {
          "base_uri": "https://localhost:8080/",
          "height": 35
        },
        "outputId": "6a5f1fb4-6ff7-4c01-ae89-90be234d4d19"
      },
      "source": [
        "print (7//3)"
      ],
      "execution_count": 21,
      "outputs": [
        {
          "output_type": "stream",
          "text": [
            "2\n"
          ],
          "name": "stdout"
        }
      ]
    },
    {
      "cell_type": "markdown",
      "metadata": {
        "id": "1RnfWq4yMjmq",
        "colab_type": "text"
      },
      "source": [
        "0.000007は $7 \\times 10^{-6}$ と等しいものであるかどうかを示しなさい。"
      ]
    },
    {
      "cell_type": "code",
      "metadata": {
        "id": "xPAzts4eMj2R",
        "colab_type": "code",
        "colab": {
          "base_uri": "https://localhost:8080/",
          "height": 35
        },
        "outputId": "f89c3893-b17d-4a58-d40d-f3bb4c59bc15"
      },
      "source": [
        "\n",
        "a = 0.000007\n",
        "b = 7e-6\n",
        "a == b"
      ],
      "execution_count": 22,
      "outputs": [
        {
          "output_type": "execute_result",
          "data": {
            "text/plain": [
              "True"
            ]
          },
          "metadata": {
            "tags": []
          },
          "execution_count": 22
        }
      ]
    },
    {
      "cell_type": "markdown",
      "metadata": {
        "id": "zUOT6V1hMmZ-",
        "colab_type": "text"
      },
      "source": [
        "25の整数を浮動小数点に変換しなさい。"
      ]
    },
    {
      "cell_type": "code",
      "metadata": {
        "id": "69QTTJPtMn82",
        "colab_type": "code",
        "colab": {
          "base_uri": "https://localhost:8080/",
          "height": 35
        },
        "outputId": "3648d652-9d89-47a1-9ff6-e5ee358615e7"
      },
      "source": [
        "float (25)"
      ],
      "execution_count": 23,
      "outputs": [
        {
          "output_type": "execute_result",
          "data": {
            "text/plain": [
              "25.0"
            ]
          },
          "metadata": {
            "tags": []
          },
          "execution_count": 23
        }
      ]
    },
    {
      "cell_type": "markdown",
      "metadata": {
        "id": "JxFe7OksMp-b",
        "colab_type": "text"
      },
      "source": [
        "(4,5)を複素数に変換し、cの変数に割り当ててください。"
      ]
    },
    {
      "cell_type": "code",
      "metadata": {
        "id": "VrbmVArvMrYk",
        "colab_type": "code",
        "colab": {
          "base_uri": "https://localhost:8080/",
          "height": 35
        },
        "outputId": "db50921f-bed0-49fc-d3e4-bebe6b5ef1b8"
      },
      "source": [
        "c = complex(4,5)\n",
        "print(c)"
      ],
      "execution_count": 24,
      "outputs": [
        {
          "output_type": "stream",
          "text": [
            "(4+5j)\n"
          ],
          "name": "stdout"
        }
      ]
    },
    {
      "cell_type": "markdown",
      "metadata": {
        "id": "eJWMMLu7Mt6O",
        "colab_type": "text"
      },
      "source": [
        "cの実数と虚数を探しなさい。"
      ]
    },
    {
      "cell_type": "code",
      "metadata": {
        "id": "53DTl4BpMvMe",
        "colab_type": "code",
        "colab": {
          "base_uri": "https://localhost:8080/",
          "height": 35
        },
        "outputId": "b40d1d50-539c-47ec-a098-08a22d2b0047"
      },
      "source": [
        "\n",
        "c.real"
      ],
      "execution_count": 25,
      "outputs": [
        {
          "output_type": "execute_result",
          "data": {
            "text/plain": [
              "4.0"
            ]
          },
          "metadata": {
            "tags": []
          },
          "execution_count": 25
        }
      ]
    },
    {
      "cell_type": "code",
      "metadata": {
        "id": "mb_5feLRMxiB",
        "colab_type": "code",
        "colab": {
          "base_uri": "https://localhost:8080/",
          "height": 35
        },
        "outputId": "609e629c-f901-4cfa-c363-81f9ca297b3e"
      },
      "source": [
        "c.imag"
      ],
      "execution_count": 26,
      "outputs": [
        {
          "output_type": "execute_result",
          "data": {
            "text/plain": [
              "5.0"
            ]
          },
          "metadata": {
            "tags": []
          },
          "execution_count": 26
        }
      ]
    },
    {
      "cell_type": "markdown",
      "metadata": {
        "id": "gSl8uEBXMzmU",
        "colab_type": "text"
      },
      "source": [
        "cの共役を示しなさい。"
      ]
    },
    {
      "cell_type": "code",
      "metadata": {
        "id": "c05FOy9PM0_b",
        "colab_type": "code",
        "colab": {
          "base_uri": "https://localhost:8080/",
          "height": 35
        },
        "outputId": "bfc85e7d-e348-4cae-8448-7937b4114e6b"
      },
      "source": [
        "c.conjugate()"
      ],
      "execution_count": 27,
      "outputs": [
        {
          "output_type": "execute_result",
          "data": {
            "text/plain": [
              "(4-5j)"
            ]
          },
          "metadata": {
            "tags": []
          },
          "execution_count": 27
        }
      ]
    },
    {
      "cell_type": "markdown",
      "metadata": {
        "id": "zrEZcQRIM462",
        "colab_type": "text"
      },
      "source": [
        "cのマグニチュードを示しなさい。"
      ]
    },
    {
      "cell_type": "code",
      "metadata": {
        "id": "7TUuSohfM2nP",
        "colab_type": "code",
        "colab": {
          "base_uri": "https://localhost:8080/",
          "height": 35
        },
        "outputId": "cd3b452c-5454-42d5-df54-27a642edb6ea"
      },
      "source": [
        "abs(c)"
      ],
      "execution_count": 28,
      "outputs": [
        {
          "output_type": "execute_result",
          "data": {
            "text/plain": [
              "6.4031242374328485"
            ]
          },
          "metadata": {
            "tags": []
          },
          "execution_count": 28
        }
      ]
    }
  ]
}