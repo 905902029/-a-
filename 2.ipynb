{
  "nbformat": 4,
  "nbformat_minor": 0,
  "metadata": {
    "colab": {
      "name": "Untitled28.ipynb",
      "provenance": [],
      "authorship_tag": "ABX9TyNc6dQpSHkvK+iL8lxAlalj",
      "include_colab_link": true
    },
    "kernelspec": {
      "name": "python3",
      "display_name": "Python 3"
    }
  },
  "cells": [
    {
      "cell_type": "markdown",
      "metadata": {
        "id": "view-in-github",
        "colab_type": "text"
      },
      "source": [
        "<a href=\"https://colab.research.google.com/github/905902029/-a-/blob/master/2.ipynb\" target=\"_parent\"><img src=\"https://colab.research.google.com/assets/colab-badge.svg\" alt=\"Open In Colab\"/></a>"
      ]
    },
    {
      "cell_type": "markdown",
      "metadata": {
        "id": "7TGQY6MbGwJc",
        "colab_type": "text"
      },
      "source": [
        "計算する \n",
        "2*(3+4)"
      ]
    },
    {
      "cell_type": "code",
      "metadata": {
        "id": "1shi1HIpGwjK",
        "colab_type": "code",
        "colab": {
          "base_uri": "https://localhost:8080/",
          "height": 35
        },
        "outputId": "e396f815-208c-4e4c-a663-75632a0f8d84"
      },
      "source": [
        "2*(3+4)"
      ],
      "execution_count": 2,
      "outputs": [
        {
          "output_type": "execute_result",
          "data": {
            "text/plain": [
              "14"
            ]
          },
          "metadata": {
            "tags": []
          },
          "execution_count": 2
        }
      ]
    },
    {
      "cell_type": "markdown",
      "metadata": {
        "id": "4AHeNC3AHWRT",
        "colab_type": "text"
      },
      "source": [
        "出力してみましょう"
      ]
    },
    {
      "cell_type": "code",
      "metadata": {
        "id": "hJLEptdPHa4t",
        "colab_type": "code",
        "colab": {
          "base_uri": "https://localhost:8080/",
          "height": 35
        },
        "outputId": "ba22077d-ccbf-4cc2-d55f-86d2b77ca820"
      },
      "source": [
        "print ('First value: ', 1)"
      ],
      "execution_count": 3,
      "outputs": [
        {
          "output_type": "stream",
          "text": [
            "First value:  1\n"
          ],
          "name": "stdout"
        }
      ]
    },
    {
      "cell_type": "markdown",
      "metadata": {
        "id": "7pIkkMJ0HrkN",
        "colab_type": "text"
      },
      "source": [
        "sortの関数を呼び出す\n",
        "\n",
        "以下のリストを作る\n",
        "Numbers = [4,3,2,1]\n",
        "sort() の関数を使って、リストをソートする。\n",
        "\n",
        "printを使って、出力する。"
      ]
    },
    {
      "cell_type": "code",
      "metadata": {
        "id": "RjDG7lGRHsD2",
        "colab_type": "code",
        "colab": {
          "base_uri": "https://localhost:8080/",
          "height": 35
        },
        "outputId": "596740ba-db4b-455e-d192-66d90aed431a"
      },
      "source": [
        "Numbers = [4,3,2,1]\n",
        "Numbers.sort()\n",
        "print(Numbers)"
      ],
      "execution_count": 4,
      "outputs": [
        {
          "output_type": "stream",
          "text": [
            "[1, 2, 3, 4]\n"
          ],
          "name": "stdout"
        }
      ]
    }
  ]
}