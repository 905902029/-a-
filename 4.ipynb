{
  "nbformat": 4,
  "nbformat_minor": 0,
  "metadata": {
    "colab": {
      "name": "Untitled29.ipynb",
      "provenance": [],
      "authorship_tag": "ABX9TyMBjz93jVB6a5J8ON9FiSNv",
      "include_colab_link": true
    },
    "kernelspec": {
      "name": "python3",
      "display_name": "Python 3"
    }
  },
  "cells": [
    {
      "cell_type": "markdown",
      "metadata": {
        "id": "view-in-github",
        "colab_type": "text"
      },
      "source": [
        "<a href=\"https://colab.research.google.com/github/905902029/-a-/blob/master/4.ipynb\" target=\"_parent\"><img src=\"https://colab.research.google.com/assets/colab-badge.svg\" alt=\"Open In Colab\"/></a>"
      ]
    },
    {
      "cell_type": "markdown",
      "metadata": {
        "id": "n8zFblYlJYxw",
        "colab_type": "text"
      },
      "source": [
        "2をxの変数に導入する"
      ]
    },
    {
      "cell_type": "code",
      "metadata": {
        "id": "1CkugFsiJZvF",
        "colab_type": "code",
        "colab": {
          "base_uri": "https://localhost:8080/",
          "height": 35
        },
        "outputId": "e8b9dcdc-c74a-41a2-8d06-27faa9d9b79e"
      },
      "source": [
        "\n",
        "x = 2\n",
        "print(x)"
      ],
      "execution_count": 1,
      "outputs": [
        {
          "output_type": "stream",
          "text": [
            "2\n"
          ],
          "name": "stdout"
        }
      ]
    },
    {
      "cell_type": "markdown",
      "metadata": {
        "id": "MEgR2KdjJh4h",
        "colab_type": "text"
      },
      "source": [
        "整数、文字列とリストを変数xに導入する"
      ]
    },
    {
      "cell_type": "code",
      "metadata": {
        "id": "IG4tEe8bJh_j",
        "colab_type": "code",
        "colab": {
          "base_uri": "https://localhost:8080/",
          "height": 71
        },
        "outputId": "48fb6d6b-708a-4cfb-f6d0-6532fb0c2bfb"
      },
      "source": [
        "x = 1   #ｘは整数\n",
        "print(x)\n",
        "x = \"hello\"  #xは文字列\n",
        "print(x)\n",
        "x = [1, 2, 3] #xは1,2,3のリスト\n",
        "print(x)"
      ],
      "execution_count": 2,
      "outputs": [
        {
          "output_type": "stream",
          "text": [
            "1\n",
            "hello\n",
            "[1, 2, 3]\n"
          ],
          "name": "stdout"
        }
      ]
    },
    {
      "cell_type": "markdown",
      "metadata": {
        "id": "NIgMyXk9JquU",
        "colab_type": "text"
      },
      "source": [
        "\n",
        "yをxに導入する"
      ]
    },
    {
      "cell_type": "code",
      "metadata": {
        "id": "Spl5d-vuJrGU",
        "colab_type": "code",
        "colab": {
          "base_uri": "https://localhost:8080/",
          "height": 35
        },
        "outputId": "29bb2aae-bd78-482b-9276-de7d38489995"
      },
      "source": [
        "y = x\n",
        "print(y)"
      ],
      "execution_count": 3,
      "outputs": [
        {
          "output_type": "stream",
          "text": [
            "[1, 2, 3]\n"
          ],
          "name": "stdout"
        }
      ]
    },
    {
      "cell_type": "markdown",
      "metadata": {
        "id": "B79BtyUJJzLa",
        "colab_type": "text"
      },
      "source": [
        "append()を使って、xの変数に4を追加する"
      ]
    },
    {
      "cell_type": "code",
      "metadata": {
        "id": "-qyN9oIMJzxn",
        "colab_type": "code",
        "colab": {
          "base_uri": "https://localhost:8080/",
          "height": 35
        },
        "outputId": "bbf2d286-5dc7-4be5-b97e-d09d468e482c"
      },
      "source": [
        "x.append(4)\n",
        "print(y)"
      ],
      "execution_count": 4,
      "outputs": [
        {
          "output_type": "stream",
          "text": [
            "[1, 2, 3, 4]\n"
          ],
          "name": "stdout"
        }
      ]
    },
    {
      "cell_type": "markdown",
      "metadata": {
        "id": "bDjB5TLQJ3Wh",
        "colab_type": "text"
      },
      "source": [
        "xに他のものに導入し、yを出力してみる"
      ]
    },
    {
      "cell_type": "code",
      "metadata": {
        "id": "lPSsXiNBJ47z",
        "colab_type": "code",
        "colab": {
          "base_uri": "https://localhost:8080/",
          "height": 35
        },
        "outputId": "54ecc1c5-6495-4417-c1bc-bc4da161c62a"
      },
      "source": [
        "\n",
        "x = \"something else\"\n",
        "print(y)"
      ],
      "execution_count": 5,
      "outputs": [
        {
          "output_type": "stream",
          "text": [
            "[1, 2, 3, 4]\n"
          ],
          "name": "stdout"
        }
      ]
    },
    {
      "cell_type": "markdown",
      "metadata": {
        "id": "etlnncYrJ-DI",
        "colab_type": "text"
      },
      "source": [
        "4をxに導入し、type()を使って、xの種類を見せてください"
      ]
    },
    {
      "cell_type": "code",
      "metadata": {
        "id": "0uTs-uV_KAH1",
        "colab_type": "code",
        "colab": {
          "base_uri": "https://localhost:8080/",
          "height": 35
        },
        "outputId": "5403bba5-67db-4916-cf8b-7adc57fb80a3"
      },
      "source": [
        "x = 4\n",
        "type(x)"
      ],
      "execution_count": 6,
      "outputs": [
        {
          "output_type": "execute_result",
          "data": {
            "text/plain": [
              "int"
            ]
          },
          "metadata": {
            "tags": []
          },
          "execution_count": 6
        }
      ]
    },
    {
      "cell_type": "markdown",
      "metadata": {
        "id": "ofq71dgVKDaH",
        "colab_type": "text"
      },
      "source": [
        "helloをxに導入し、type()を使って、xの種類を見せてください。"
      ]
    },
    {
      "cell_type": "code",
      "metadata": {
        "id": "sMBbaK4XKFA_",
        "colab_type": "code",
        "colab": {
          "base_uri": "https://localhost:8080/",
          "height": 35
        },
        "outputId": "c0c2f9bd-7057-4a3b-fd4a-8c9a9bf11cbc"
      },
      "source": [
        "\n",
        "x = \"hello\"\n",
        "type(x)"
      ],
      "execution_count": 7,
      "outputs": [
        {
          "output_type": "execute_result",
          "data": {
            "text/plain": [
              "str"
            ]
          },
          "metadata": {
            "tags": []
          },
          "execution_count": 7
        }
      ]
    },
    {
      "cell_type": "markdown",
      "metadata": {
        "id": "3rfY98aIKHk7",
        "colab_type": "text"
      },
      "source": [
        "3.14159をxに導入し、type()を使って、xの種類を見せてください。"
      ]
    },
    {
      "cell_type": "code",
      "metadata": {
        "id": "loZujiv4KJGn",
        "colab_type": "code",
        "colab": {
          "base_uri": "https://localhost:8080/",
          "height": 35
        },
        "outputId": "001f0523-3e11-449c-9699-a9c6581414d5"
      },
      "source": [
        "x = 3.14159\n",
        "type(x)"
      ],
      "execution_count": 8,
      "outputs": [
        {
          "output_type": "execute_result",
          "data": {
            "text/plain": [
              "float"
            ]
          },
          "metadata": {
            "tags": []
          },
          "execution_count": 8
        }
      ]
    },
    {
      "cell_type": "markdown",
      "metadata": {
        "id": "kek9t-ZIKMiH",
        "colab_type": "text"
      },
      "source": [
        "(5+2)*(12\\4)を計算して、出力してください。"
      ]
    },
    {
      "cell_type": "code",
      "metadata": {
        "id": "ddF_UNn6Kbwx",
        "colab_type": "code",
        "colab": {
          "base_uri": "https://localhost:8080/",
          "height": 35
        },
        "outputId": "0ae48ebc-7c66-4867-de08-3bff0753450e"
      },
      "source": [
        "(5 + 2) * (12 / 4)"
      ],
      "execution_count": 9,
      "outputs": [
        {
          "output_type": "execute_result",
          "data": {
            "text/plain": [
              "21.0"
            ]
          },
          "metadata": {
            "tags": []
          },
          "execution_count": 9
        }
      ]
    },
    {
      "cell_type": "markdown",
      "metadata": {
        "id": "QadgYh1UKeSA",
        "colab_type": "text"
      },
      "source": [
        "以下の出力は何ですか？\n",
        "a. print (11 /3)\n",
        "\n",
        "b. print (11//3)"
      ]
    },
    {
      "cell_type": "code",
      "metadata": {
        "id": "YeJZVgs0Kgwc",
        "colab_type": "code",
        "colab": {
          "base_uri": "https://localhost:8080/",
          "height": 35
        },
        "outputId": "b046e4ab-5736-4732-eb5e-d8837626a4c8"
      },
      "source": [
        "print(11/3)"
      ],
      "execution_count": 10,
      "outputs": [
        {
          "output_type": "stream",
          "text": [
            "3.6666666666666665\n"
          ],
          "name": "stdout"
        }
      ]
    },
    {
      "cell_type": "code",
      "metadata": {
        "id": "y1Phh0CcKhg9",
        "colab_type": "code",
        "colab": {
          "base_uri": "https://localhost:8080/",
          "height": 35
        },
        "outputId": "347d20b1-8211-4d37-bfb2-75c1c4e4b569"
      },
      "source": [
        "print(11//3)"
      ],
      "execution_count": 11,
      "outputs": [
        {
          "output_type": "stream",
          "text": [
            "3\n"
          ],
          "name": "stdout"
        }
      ]
    },
    {
      "cell_type": "markdown",
      "metadata": {
        "id": "NE7VK9CsKl9h",
        "colab_type": "text"
      },
      "source": [
        "$2^5$を計算してください"
      ]
    },
    {
      "cell_type": "code",
      "metadata": {
        "id": "NiVhlNoUKnEg",
        "colab_type": "code",
        "colab": {
          "base_uri": "https://localhost:8080/",
          "height": 35
        },
        "outputId": "edbfa7b0-570d-4ee0-e965-ded3378a2825"
      },
      "source": [
        "2**5"
      ],
      "execution_count": 12,
      "outputs": [
        {
          "output_type": "execute_result",
          "data": {
            "text/plain": [
              "32"
            ]
          },
          "metadata": {
            "tags": []
          },
          "execution_count": 12
        }
      ]
    },
    {
      "cell_type": "markdown",
      "metadata": {
        "id": "92qnWYUQKrnT",
        "colab_type": "text"
      },
      "source": [
        "12の2進数を計算してください。"
      ]
    },
    {
      "cell_type": "code",
      "metadata": {
        "id": "Iy0SayDVKttT",
        "colab_type": "code",
        "colab": {
          "base_uri": "https://localhost:8080/",
          "height": 35
        },
        "outputId": "cb5a287a-a20c-46a5-a2cd-ed59feeb3709"
      },
      "source": [
        "bin(12)"
      ],
      "execution_count": 13,
      "outputs": [
        {
          "output_type": "execute_result",
          "data": {
            "text/plain": [
              "'0b1100'"
            ]
          },
          "metadata": {
            "tags": []
          },
          "execution_count": 13
        }
      ]
    },
    {
      "cell_type": "markdown",
      "metadata": {
        "id": "YTU86uAMKwU7",
        "colab_type": "text"
      },
      "source": [
        "4の2進数を計算してください"
      ]
    },
    {
      "cell_type": "code",
      "metadata": {
        "id": "2_x2bmpNKydw",
        "colab_type": "code",
        "colab": {
          "base_uri": "https://localhost:8080/",
          "height": 35
        },
        "outputId": "e8737afb-60b3-4cc9-9f33-7bef59b279ca"
      },
      "source": [
        "bin(4)"
      ],
      "execution_count": 14,
      "outputs": [
        {
          "output_type": "execute_result",
          "data": {
            "text/plain": [
              "'0b100'"
            ]
          },
          "metadata": {
            "tags": []
          },
          "execution_count": 14
        }
      ]
    },
    {
      "cell_type": "markdown",
      "metadata": {
        "id": "ZG0YhSc1K0Yb",
        "colab_type": "text"
      },
      "source": [
        "12と４のOR演算を計算し、その2進数も計算してください。"
      ]
    },
    {
      "cell_type": "code",
      "metadata": {
        "id": "fdpcrfxzK1_j",
        "colab_type": "code",
        "colab": {
          "base_uri": "https://localhost:8080/",
          "height": 35
        },
        "outputId": "5a4dbd4f-00f0-4ad9-c51f-2da0f3276636"
      },
      "source": [
        "12 | 4"
      ],
      "execution_count": 15,
      "outputs": [
        {
          "output_type": "execute_result",
          "data": {
            "text/plain": [
              "12"
            ]
          },
          "metadata": {
            "tags": []
          },
          "execution_count": 15
        }
      ]
    },
    {
      "cell_type": "code",
      "metadata": {
        "id": "9E_APZW9K4vv",
        "colab_type": "code",
        "colab": {
          "base_uri": "https://localhost:8080/",
          "height": 35
        },
        "outputId": "5ee9af1e-d561-46f6-c743-73884776717b"
      },
      "source": [
        "bin (12|4)"
      ],
      "execution_count": 16,
      "outputs": [
        {
          "output_type": "execute_result",
          "data": {
            "text/plain": [
              "'0b1100'"
            ]
          },
          "metadata": {
            "tags": []
          },
          "execution_count": 16
        }
      ]
    }
  ]
}