{
  "nbformat": 4,
  "nbformat_minor": 0,
  "metadata": {
    "colab": {
      "name": "Untitled31.ipynb",
      "provenance": [],
      "authorship_tag": "ABX9TyOw0oJ9xDZCmoqYcdY3DAGx",
      "include_colab_link": true
    },
    "kernelspec": {
      "name": "python3",
      "display_name": "Python 3"
    }
  },
  "cells": [
    {
      "cell_type": "markdown",
      "metadata": {
        "id": "view-in-github",
        "colab_type": "text"
      },
      "source": [
        "<a href=\"https://colab.research.google.com/github/905902029/-a-/blob/master/6.ipynb\" target=\"_parent\"><img src=\"https://colab.research.google.com/assets/colab-badge.svg\" alt=\"Open In Colab\"/></a>"
      ]
    },
    {
      "cell_type": "markdown",
      "metadata": {
        "id": "EQZhMf3JNIBl",
        "colab_type": "text"
      },
      "source": [
        "文章（文字列）を作って、textの変数に割り当ててください。\n",
        "\n",
        "但し、これからの操作は英文にする。"
      ]
    },
    {
      "cell_type": "code",
      "metadata": {
        "id": "DGqplU7-NJnd",
        "colab_type": "code",
        "colab": {}
      },
      "source": [
        "text = \"I love China\""
      ],
      "execution_count": 0,
      "outputs": []
    },
    {
      "cell_type": "markdown",
      "metadata": {
        "id": "qcclRO7HNYJW",
        "colab_type": "text"
      },
      "source": [
        "textの長さを探しなさい。"
      ]
    },
    {
      "cell_type": "code",
      "metadata": {
        "id": "MHorxrZBNZkj",
        "colab_type": "code",
        "colab": {
          "base_uri": "https://localhost:8080/",
          "height": 35
        },
        "outputId": "af981d44-a21b-4ea9-92d3-af10ec32b105"
      },
      "source": [
        "len(text)"
      ],
      "execution_count": 4,
      "outputs": [
        {
          "output_type": "execute_result",
          "data": {
            "text/plain": [
              "12"
            ]
          },
          "metadata": {
            "tags": []
          },
          "execution_count": 4
        }
      ]
    },
    {
      "cell_type": "markdown",
      "metadata": {
        "id": "dD9inJLvNbAp",
        "colab_type": "text"
      },
      "source": [
        "textの最初の文字は大文字にしてください。"
      ]
    },
    {
      "cell_type": "code",
      "metadata": {
        "id": "ukNXgJTGNcL1",
        "colab_type": "code",
        "colab": {
          "base_uri": "https://localhost:8080/",
          "height": 35
        },
        "outputId": "dc5cc968-6591-4f39-a3e2-661c1693f1d0"
      },
      "source": [
        "text.capitalize()"
      ],
      "execution_count": 5,
      "outputs": [
        {
          "output_type": "execute_result",
          "data": {
            "text/plain": [
              "'I love china'"
            ]
          },
          "metadata": {
            "tags": []
          },
          "execution_count": 5
        }
      ]
    },
    {
      "cell_type": "markdown",
      "metadata": {
        "id": "33TaBnURNd-E",
        "colab_type": "text"
      },
      "source": [
        "別の文章を作って、text02の変数に割り当ててください。そして、textをtext02に加えてください。"
      ]
    },
    {
      "cell_type": "code",
      "metadata": {
        "id": "iD4XoT_JNfSP",
        "colab_type": "code",
        "colab": {
          "base_uri": "https://localhost:8080/",
          "height": 35
        },
        "outputId": "15baf6ab-9970-483c-837b-be7fa15739a7"
      },
      "source": [
        "text02 = \"so much\"\n",
        "text + text02"
      ],
      "execution_count": 6,
      "outputs": [
        {
          "output_type": "execute_result",
          "data": {
            "text/plain": [
              "'I love Chinaso much'"
            ]
          },
          "metadata": {
            "tags": []
          },
          "execution_count": 6
        }
      ]
    },
    {
      "cell_type": "markdown",
      "metadata": {
        "id": "dz98kSytNhjl",
        "colab_type": "text"
      },
      "source": [
        "\n",
        "スペースを入れて、足してください。"
      ]
    },
    {
      "cell_type": "code",
      "metadata": {
        "id": "y2Wulv38NjB9",
        "colab_type": "code",
        "colab": {
          "base_uri": "https://localhost:8080/",
          "height": 35
        },
        "outputId": "bc3303a9-0399-4086-d2a2-979bd81f9179"
      },
      "source": [
        "text + \" \" + text02"
      ],
      "execution_count": 7,
      "outputs": [
        {
          "output_type": "execute_result",
          "data": {
            "text/plain": [
              "'I love China so much'"
            ]
          },
          "metadata": {
            "tags": []
          },
          "execution_count": 7
        }
      ]
    },
    {
      "cell_type": "markdown",
      "metadata": {
        "id": "zqXmeiq9NlAJ",
        "colab_type": "text"
      },
      "source": [
        "\n",
        "\n",
        "\n",
        "textは５に掛けてください。"
      ]
    },
    {
      "cell_type": "code",
      "metadata": {
        "id": "fYGvQDQ_NlOC",
        "colab_type": "code",
        "colab": {
          "base_uri": "https://localhost:8080/",
          "height": 35
        },
        "outputId": "52e11235-f257-4269-e90f-d4f300d6ee8a"
      },
      "source": [
        "\n",
        "text * 5"
      ],
      "execution_count": 8,
      "outputs": [
        {
          "output_type": "execute_result",
          "data": {
            "text/plain": [
              "'I love ChinaI love ChinaI love ChinaI love ChinaI love China'"
            ]
          },
          "metadata": {
            "tags": []
          },
          "execution_count": 8
        }
      ]
    },
    {
      "cell_type": "markdown",
      "metadata": {
        "id": "fPj7f0_wNoy-",
        "colab_type": "text"
      },
      "source": [
        "text[0] と text[2]にアクセスしてください。"
      ]
    },
    {
      "cell_type": "code",
      "metadata": {
        "id": "7nJCrSLpNrze",
        "colab_type": "code",
        "colab": {
          "base_uri": "https://localhost:8080/",
          "height": 35
        },
        "outputId": "90cc13a1-c0d8-47b2-b725-a9534df70636"
      },
      "source": [
        "text[0]"
      ],
      "execution_count": 9,
      "outputs": [
        {
          "output_type": "execute_result",
          "data": {
            "text/plain": [
              "'I'"
            ]
          },
          "metadata": {
            "tags": []
          },
          "execution_count": 9
        }
      ]
    },
    {
      "cell_type": "code",
      "metadata": {
        "id": "XxOfHRR2NtfD",
        "colab_type": "code",
        "colab": {
          "base_uri": "https://localhost:8080/",
          "height": 35
        },
        "outputId": "918b0fba-c984-465e-e1c3-3352a3cf4d03"
      },
      "source": [
        "text[2]"
      ],
      "execution_count": 11,
      "outputs": [
        {
          "output_type": "execute_result",
          "data": {
            "text/plain": [
              "'l'"
            ]
          },
          "metadata": {
            "tags": []
          },
          "execution_count": 11
        }
      ]
    },
    {
      "cell_type": "markdown",
      "metadata": {
        "id": "J4qzM_5wN0-0",
        "colab_type": "text"
      },
      "source": [
        "日本語の文章を作り、text03に割り当ててください。"
      ]
    },
    {
      "cell_type": "code",
      "metadata": {
        "id": "CPL3RaO7N1Vp",
        "colab_type": "code",
        "colab": {
          "base_uri": "https://localhost:8080/",
          "height": 35
        },
        "outputId": "fa234248-c5a7-4bf3-bbff-2d650417e3e9"
      },
      "source": [
        "text03 = \"中国が好き\"\n",
        "print(text03)"
      ],
      "execution_count": 12,
      "outputs": [
        {
          "output_type": "stream",
          "text": [
            "中国が好き\n"
          ],
          "name": "stdout"
        }
      ]
    },
    {
      "cell_type": "markdown",
      "metadata": {
        "id": "ZdfbNCQEN7rK",
        "colab_type": "text"
      },
      "source": [
        "NoneType"
      ]
    },
    {
      "cell_type": "code",
      "metadata": {
        "id": "Jxn5btJvN8R7",
        "colab_type": "code",
        "colab": {
          "base_uri": "https://localhost:8080/",
          "height": 35
        },
        "outputId": "5d61d71d-2034-4c20-b42d-fa15d889ba05"
      },
      "source": [
        "type(None)"
      ],
      "execution_count": 13,
      "outputs": [
        {
          "output_type": "execute_result",
          "data": {
            "text/plain": [
              "NoneType"
            ]
          },
          "metadata": {
            "tags": []
          },
          "execution_count": 13
        }
      ]
    },
    {
      "cell_type": "code",
      "metadata": {
        "id": "tJo6RmkxN-pk",
        "colab_type": "code",
        "colab": {
          "base_uri": "https://localhost:8080/",
          "height": 53
        },
        "outputId": "73bdedbb-c179-44c7-9a26-ca2c0a224c42"
      },
      "source": [
        "value =print('abc')\n",
        "print(value)"
      ],
      "execution_count": 14,
      "outputs": [
        {
          "output_type": "stream",
          "text": [
            "abc\n",
            "None\n"
          ],
          "name": "stdout"
        }
      ]
    },
    {
      "cell_type": "code",
      "metadata": {
        "id": "m1LC0N6pOAZ9",
        "colab_type": "code",
        "colab": {
          "base_uri": "https://localhost:8080/",
          "height": 35
        },
        "outputId": "a15efce5-77e7-4f01-fd08-dc125ca515ef"
      },
      "source": [
        "x = (4 < 5)\n",
        "print(x)"
      ],
      "execution_count": 15,
      "outputs": [
        {
          "output_type": "stream",
          "text": [
            "True\n"
          ],
          "name": "stdout"
        }
      ]
    },
    {
      "cell_type": "code",
      "metadata": {
        "id": "LtPJSKnEOB1b",
        "colab_type": "code",
        "colab": {
          "base_uri": "https://localhost:8080/",
          "height": 35
        },
        "outputId": "d79ee8cc-959b-4b8a-f057-901345eb0356"
      },
      "source": [
        "type(x)"
      ],
      "execution_count": 16,
      "outputs": [
        {
          "output_type": "execute_result",
          "data": {
            "text/plain": [
              "bool"
            ]
          },
          "metadata": {
            "tags": []
          },
          "execution_count": 16
        }
      ]
    },
    {
      "cell_type": "markdown",
      "metadata": {
        "id": "S4i94Fs5ODud",
        "colab_type": "text"
      },
      "source": [
        "リストを作成し、Lの変数に割り当ててください。リストの中には4,6,8,9に入れてください。"
      ]
    },
    {
      "cell_type": "code",
      "metadata": {
        "id": "N8M5rThxOF8C",
        "colab_type": "code",
        "colab": {}
      },
      "source": [
        "L = [4,6,8,9]"
      ],
      "execution_count": 0,
      "outputs": []
    },
    {
      "cell_type": "markdown",
      "metadata": {
        "id": "vJOxnT6yOIAA",
        "colab_type": "text"
      },
      "source": [
        "リストの長さを探しなさい。"
      ]
    },
    {
      "cell_type": "code",
      "metadata": {
        "id": "YJdHe9NzOJVR",
        "colab_type": "code",
        "colab": {
          "base_uri": "https://localhost:8080/",
          "height": 35
        },
        "outputId": "a047a4e6-39cd-430e-ac97-999449475374"
      },
      "source": [
        "print(len(L))"
      ],
      "execution_count": 18,
      "outputs": [
        {
          "output_type": "stream",
          "text": [
            "4\n"
          ],
          "name": "stdout"
        }
      ]
    },
    {
      "cell_type": "markdown",
      "metadata": {
        "id": "mTCgod5EOMac",
        "colab_type": "text"
      },
      "source": [
        "11をリストの中に足してください。"
      ]
    },
    {
      "cell_type": "code",
      "metadata": {
        "id": "B5d7r9fwOMnW",
        "colab_type": "code",
        "colab": {}
      },
      "source": [
        "append(11)"
      ],
      "execution_count": 0,
      "outputs": []
    },
    {
      "cell_type": "markdown",
      "metadata": {
        "id": "4UMef7WaOQrP",
        "colab_type": "text"
      },
      "source": [
        "[13, 17, 20]をLのリストに連結せよ。"
      ]
    },
    {
      "cell_type": "code",
      "metadata": {
        "id": "bq9RqwJAOSHJ",
        "colab_type": "code",
        "colab": {}
      },
      "source": [
        "L += [13, 17, 20]"
      ],
      "execution_count": 0,
      "outputs": []
    },
    {
      "cell_type": "markdown",
      "metadata": {
        "id": "SMrFZFYAOU6c",
        "colab_type": "text"
      },
      "source": [
        "リストを昇順にソートしてください。"
      ]
    },
    {
      "cell_type": "code",
      "metadata": {
        "id": "MQ2ObQ60OWWV",
        "colab_type": "code",
        "colab": {
          "base_uri": "https://localhost:8080/",
          "height": 35
        },
        "outputId": "d6260b03-234e-4b88-f53f-60057c33aa9e"
      },
      "source": [
        "\n",
        "L.sort\n",
        "L"
      ],
      "execution_count": 22,
      "outputs": [
        {
          "output_type": "execute_result",
          "data": {
            "text/plain": [
              "[4, 6, 8, 9, 13, 17, 20, 13, 17, 20]"
            ]
          },
          "metadata": {
            "tags": []
          },
          "execution_count": 22
        }
      ]
    },
    {
      "cell_type": "markdown",
      "metadata": {
        "id": "zrN2DUfwOYiZ",
        "colab_type": "text"
      },
      "source": [
        "リストの中には整数以外の値を含んでも可能 ですか？"
      ]
    },
    {
      "cell_type": "code",
      "metadata": {
        "id": "yvjylXmNOYuZ",
        "colab_type": "code",
        "colab": {}
      },
      "source": [
        "\n",
        "L = [1, \"two\", 3.24, [0,3,5]]\n",
        "L"
      ],
      "execution_count": 0,
      "outputs": []
    },
    {
      "cell_type": "markdown",
      "metadata": {
        "id": "ojtn4cAlObRB",
        "colab_type": "text"
      },
      "source": [
        "L=[4,6,8,9,11]のリストから、Lの一番目の値（インデックス）を示しなさい。"
      ]
    },
    {
      "cell_type": "code",
      "metadata": {
        "id": "kAVzzvJLObb1",
        "colab_type": "code",
        "colab": {
          "base_uri": "https://localhost:8080/",
          "height": 35
        },
        "outputId": "a6c4bf12-3144-4878-9499-925783c03398"
      },
      "source": [
        "L = [4,6,8,9,11]\n",
        "L[0]"
      ],
      "execution_count": 23,
      "outputs": [
        {
          "output_type": "execute_result",
          "data": {
            "text/plain": [
              "4"
            ]
          },
          "metadata": {
            "tags": []
          },
          "execution_count": 23
        }
      ]
    },
    {
      "cell_type": "markdown",
      "metadata": {
        "id": "KHOa_NIpOeNn",
        "colab_type": "text"
      },
      "source": [
        "Lの４番目の値（インデックス）を探しなさい。"
      ]
    },
    {
      "cell_type": "code",
      "metadata": {
        "id": "AbvCDCmaOeXu",
        "colab_type": "code",
        "colab": {
          "base_uri": "https://localhost:8080/",
          "height": 35
        },
        "outputId": "5f503567-433f-4369-8894-d9be2f27af29"
      },
      "source": [
        "L[3]"
      ],
      "execution_count": 24,
      "outputs": [
        {
          "output_type": "execute_result",
          "data": {
            "text/plain": [
              "9"
            ]
          },
          "metadata": {
            "tags": []
          },
          "execution_count": 24
        }
      ]
    },
    {
      "cell_type": "markdown",
      "metadata": {
        "id": "TIO6qAfFOhVA",
        "colab_type": "text"
      },
      "source": [
        "Lの最後の値（インデックス）を示しなさい。"
      ]
    },
    {
      "cell_type": "code",
      "metadata": {
        "id": "RUo_wonEOho9",
        "colab_type": "code",
        "colab": {
          "base_uri": "https://localhost:8080/",
          "height": 35
        },
        "outputId": "5710e2a3-810f-4d30-b670-aaa283cff98c"
      },
      "source": [
        "L[-1]"
      ],
      "execution_count": 25,
      "outputs": [
        {
          "output_type": "execute_result",
          "data": {
            "text/plain": [
              "11"
            ]
          },
          "metadata": {
            "tags": []
          },
          "execution_count": 25
        }
      ]
    },
    {
      "cell_type": "code",
      "metadata": {
        "id": "e-fnu182Okvd",
        "colab_type": "code",
        "colab": {
          "base_uri": "https://localhost:8080/",
          "height": 35
        },
        "outputId": "6c077788-055a-49a2-a79a-4a658335ee24"
      },
      "source": [
        "L[4]"
      ],
      "execution_count": 26,
      "outputs": [
        {
          "output_type": "execute_result",
          "data": {
            "text/plain": [
              "11"
            ]
          },
          "metadata": {
            "tags": []
          },
          "execution_count": 26
        }
      ]
    },
    {
      "cell_type": "markdown",
      "metadata": {
        "id": "uZ8NkXrOOm2-",
        "colab_type": "text"
      },
      "source": [
        "Lの最初の３つの値を探しなさい。"
      ]
    },
    {
      "cell_type": "code",
      "metadata": {
        "id": "C1-kHqBaOnBZ",
        "colab_type": "code",
        "colab": {
          "base_uri": "https://localhost:8080/",
          "height": 35
        },
        "outputId": "8ec62c9e-fade-4a33-8fa1-777863212846"
      },
      "source": [
        "L[:3]"
      ],
      "execution_count": 27,
      "outputs": [
        {
          "output_type": "execute_result",
          "data": {
            "text/plain": [
              "[4, 6, 8]"
            ]
          },
          "metadata": {
            "tags": []
          },
          "execution_count": 27
        }
      ]
    },
    {
      "cell_type": "markdown",
      "metadata": {
        "id": "P_W4AefKO13C",
        "colab_type": "text"
      },
      "source": [
        "Lの最後の二つの値を探しなさい。"
      ]
    },
    {
      "cell_type": "code",
      "metadata": {
        "id": "vXzFOdbgO2BR",
        "colab_type": "code",
        "colab": {
          "base_uri": "https://localhost:8080/",
          "height": 35
        },
        "outputId": "aa40137a-cc8e-487d-c56a-0f50559abc08"
      },
      "source": [
        "L[-2:]"
      ],
      "execution_count": 28,
      "outputs": [
        {
          "output_type": "execute_result",
          "data": {
            "text/plain": [
              "[9, 11]"
            ]
          },
          "metadata": {
            "tags": []
          },
          "execution_count": 28
        }
      ]
    },
    {
      "cell_type": "markdown",
      "metadata": {
        "id": "Unquj_hdO5Bh",
        "colab_type": "text"
      },
      "source": [
        "昇順にソートし、一つの値を飛ばしたLを示しなさい。"
      ]
    },
    {
      "cell_type": "code",
      "metadata": {
        "id": "8ev22QYKO6mw",
        "colab_type": "code",
        "colab": {
          "base_uri": "https://localhost:8080/",
          "height": 35
        },
        "outputId": "e1a7716c-d2e5-4751-ae83-f2c8b6b7d956"
      },
      "source": [
        "L[::2]"
      ],
      "execution_count": 29,
      "outputs": [
        {
          "output_type": "execute_result",
          "data": {
            "text/plain": [
              "[4, 8, 11]"
            ]
          },
          "metadata": {
            "tags": []
          },
          "execution_count": 29
        }
      ]
    },
    {
      "cell_type": "code",
      "metadata": {
        "id": "jO0MIU8_O-NT",
        "colab_type": "code",
        "colab": {
          "base_uri": "https://localhost:8080/",
          "height": 35
        },
        "outputId": "18eafa6f-694b-4136-a31a-b707f9eb48af"
      },
      "source": [
        "L[0:len(L):2]"
      ],
      "execution_count": 30,
      "outputs": [
        {
          "output_type": "execute_result",
          "data": {
            "text/plain": [
              "[4, 8, 11]"
            ]
          },
          "metadata": {
            "tags": []
          },
          "execution_count": 30
        }
      ]
    },
    {
      "cell_type": "markdown",
      "metadata": {
        "id": "Dbx4G4xrPARy",
        "colab_type": "text"
      },
      "source": [
        "降順にソートし、一つの値を飛ばしたLを示しなさい。"
      ]
    },
    {
      "cell_type": "code",
      "metadata": {
        "id": "_tcrgndjPBvH",
        "colab_type": "code",
        "colab": {
          "base_uri": "https://localhost:8080/",
          "height": 35
        },
        "outputId": "c5b79b4e-d34e-4cb4-c378-37edddec242e"
      },
      "source": [
        "L[::-2]"
      ],
      "execution_count": 31,
      "outputs": [
        {
          "output_type": "execute_result",
          "data": {
            "text/plain": [
              "[11, 8, 4]"
            ]
          },
          "metadata": {
            "tags": []
          },
          "execution_count": 31
        }
      ]
    },
    {
      "cell_type": "markdown",
      "metadata": {
        "id": "NutcEWDCPERY",
        "colab_type": "text"
      },
      "source": [
        "L[0]を50に代入しなさい。"
      ]
    },
    {
      "cell_type": "code",
      "metadata": {
        "id": "pYyYihxOPGXB",
        "colab_type": "code",
        "colab": {
          "base_uri": "https://localhost:8080/",
          "height": 35
        },
        "outputId": "b189cb94-1a70-4d0e-cd6e-9b07e3ba544a"
      },
      "source": [
        "L[0] = 50\n",
        "L\n"
      ],
      "execution_count": 32,
      "outputs": [
        {
          "output_type": "execute_result",
          "data": {
            "text/plain": [
              "[50, 6, 8, 9, 11]"
            ]
          },
          "metadata": {
            "tags": []
          },
          "execution_count": 32
        }
      ]
    },
    {
      "cell_type": "markdown",
      "metadata": {
        "id": "nDapRZb5PJzD",
        "colab_type": "text"
      },
      "source": [
        "Lを昇順にソートしてください。"
      ]
    },
    {
      "cell_type": "code",
      "metadata": {
        "id": "zgM0lfdOPKLq",
        "colab_type": "code",
        "colab": {
          "base_uri": "https://localhost:8080/",
          "height": 35
        },
        "outputId": "8ee51993-08e2-419a-8795-97bd0c82a611"
      },
      "source": [
        "L.sort()\n",
        "L"
      ],
      "execution_count": 33,
      "outputs": [
        {
          "output_type": "execute_result",
          "data": {
            "text/plain": [
              "[6, 8, 9, 11, 50]"
            ]
          },
          "metadata": {
            "tags": []
          },
          "execution_count": 33
        }
      ]
    },
    {
      "cell_type": "markdown",
      "metadata": {
        "id": "KiiaZ_YFPNZ5",
        "colab_type": "text"
      },
      "source": [
        "4,9,10をT変数に割り当てて、タプルを作りなさい。"
      ]
    },
    {
      "cell_type": "code",
      "metadata": {
        "id": "GQx2qCF-POCN",
        "colab_type": "code",
        "colab": {
          "base_uri": "https://localhost:8080/",
          "height": 35
        },
        "outputId": "89291274-e352-45ae-bc70-ad2556c435b5"
      },
      "source": [
        "T = (4,9,10)\n",
        "print(T)"
      ],
      "execution_count": 34,
      "outputs": [
        {
          "output_type": "stream",
          "text": [
            "(4, 9, 10)\n"
          ],
          "name": "stdout"
        }
      ]
    },
    {
      "cell_type": "code",
      "metadata": {
        "id": "e_LsVjK-PRYX",
        "colab_type": "code",
        "colab": {
          "base_uri": "https://localhost:8080/",
          "height": 35
        },
        "outputId": "7f7981b8-ba2b-4b81-e74d-0a094980230a"
      },
      "source": [
        "\n",
        "T = 4,9, 10\n",
        "print(T)"
      ],
      "execution_count": 35,
      "outputs": [
        {
          "output_type": "stream",
          "text": [
            "(4, 9, 10)\n"
          ],
          "name": "stdout"
        }
      ]
    },
    {
      "cell_type": "markdown",
      "metadata": {
        "id": "NiTUADvPPS5i",
        "colab_type": "text"
      },
      "source": [
        "Tの長さを探しなさい。"
      ]
    },
    {
      "cell_type": "code",
      "metadata": {
        "id": "lvyGEAJ7PUO7",
        "colab_type": "code",
        "colab": {
          "base_uri": "https://localhost:8080/",
          "height": 35
        },
        "outputId": "54c64ca4-5429-4ae8-d977-58603dd49b50"
      },
      "source": [
        "len(T)"
      ],
      "execution_count": 36,
      "outputs": [
        {
          "output_type": "execute_result",
          "data": {
            "text/plain": [
              "3"
            ]
          },
          "metadata": {
            "tags": []
          },
          "execution_count": 36
        }
      ]
    },
    {
      "cell_type": "markdown",
      "metadata": {
        "id": "F-gNf8LIPWuY",
        "colab_type": "text"
      },
      "source": [
        "Tの最初の値を探しなさい。"
      ]
    },
    {
      "cell_type": "code",
      "metadata": {
        "id": "dSWd3KO6PW-f",
        "colab_type": "code",
        "colab": {
          "base_uri": "https://localhost:8080/",
          "height": 35
        },
        "outputId": "a09e0264-9e53-43b8-f67d-2dcf1fa5e646"
      },
      "source": [
        "T[0]"
      ],
      "execution_count": 37,
      "outputs": [
        {
          "output_type": "execute_result",
          "data": {
            "text/plain": [
              "4"
            ]
          },
          "metadata": {
            "tags": []
          },
          "execution_count": 37
        }
      ]
    },
    {
      "cell_type": "markdown",
      "metadata": {
        "id": "uqGM0AonPZlB",
        "colab_type": "text"
      },
      "source": [
        "タプルの値を変えられますか？可能なら、T[1]を5に変えなさい。"
      ]
    },
    {
      "cell_type": "code",
      "metadata": {
        "id": "m69LE2bHPZ-7",
        "colab_type": "code",
        "colab": {
          "base_uri": "https://localhost:8080/",
          "height": 173
        },
        "outputId": "3e216ef4-f5de-4bc1-d8bb-e25d79b481a2"
      },
      "source": [
        "T[1] = 5"
      ],
      "execution_count": 38,
      "outputs": [
        {
          "output_type": "error",
          "ename": "TypeError",
          "evalue": "ignored",
          "traceback": [
            "\u001b[0;31m---------------------------------------------------------------------------\u001b[0m",
            "\u001b[0;31mTypeError\u001b[0m                                 Traceback (most recent call last)",
            "\u001b[0;32m<ipython-input-38-b6e9f985eb5d>\u001b[0m in \u001b[0;36m<module>\u001b[0;34m()\u001b[0m\n\u001b[0;32m----> 1\u001b[0;31m \u001b[0mT\u001b[0m\u001b[0;34m[\u001b[0m\u001b[0;36m1\u001b[0m\u001b[0;34m]\u001b[0m \u001b[0;34m=\u001b[0m \u001b[0;36m5\u001b[0m\u001b[0;34m\u001b[0m\u001b[0;34m\u001b[0m\u001b[0m\n\u001b[0m",
            "\u001b[0;31mTypeError\u001b[0m: 'tuple' object does not support item assignment"
          ]
        }
      ]
    },
    {
      "cell_type": "markdown",
      "metadata": {
        "id": "L1z5tHCrPc1q",
        "colab_type": "text"
      },
      "source": [
        "タプルの中に別の要素を足すことが可能ですか？可能なら、12を要素のタプルの中に入れてください。"
      ]
    },
    {
      "cell_type": "code",
      "metadata": {
        "id": "NyWD76DPPdEO",
        "colab_type": "code",
        "colab": {
          "base_uri": "https://localhost:8080/",
          "height": 173
        },
        "outputId": "77383af3-7bd4-4ffd-f23e-38417266c9d9"
      },
      "source": [
        "T.append(12)"
      ],
      "execution_count": 39,
      "outputs": [
        {
          "output_type": "error",
          "ename": "AttributeError",
          "evalue": "ignored",
          "traceback": [
            "\u001b[0;31m---------------------------------------------------------------------------\u001b[0m",
            "\u001b[0;31mAttributeError\u001b[0m                            Traceback (most recent call last)",
            "\u001b[0;32m<ipython-input-39-e9e4bc125115>\u001b[0m in \u001b[0;36m<module>\u001b[0;34m()\u001b[0m\n\u001b[0;32m----> 1\u001b[0;31m \u001b[0mT\u001b[0m\u001b[0;34m.\u001b[0m\u001b[0mappend\u001b[0m\u001b[0;34m(\u001b[0m\u001b[0;36m12\u001b[0m\u001b[0;34m)\u001b[0m\u001b[0;34m\u001b[0m\u001b[0;34m\u001b[0m\u001b[0m\n\u001b[0m",
            "\u001b[0;31mAttributeError\u001b[0m: 'tuple' object has no attribute 'append'"
          ]
        }
      ]
    },
    {
      "cell_type": "code",
      "metadata": {
        "id": "5jwP_LeCPf4y",
        "colab_type": "code",
        "colab": {
          "base_uri": "https://localhost:8080/",
          "height": 35
        },
        "outputId": "8dadd4f8-55e4-4c41-ee28-d22087fb5e80"
      },
      "source": [
        "T2 = (12, )\n",
        "T += T2\n",
        "print (T)"
      ],
      "execution_count": 40,
      "outputs": [
        {
          "output_type": "stream",
          "text": [
            "(4, 9, 10, 12)\n"
          ],
          "name": "stdout"
        }
      ]
    }
  ]
}