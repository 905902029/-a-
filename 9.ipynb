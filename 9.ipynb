{
  "nbformat": 4,
  "nbformat_minor": 0,
  "metadata": {
    "colab": {
      "name": "Untitled34.ipynb",
      "provenance": [],
      "authorship_tag": "ABX9TyMY8sTJs+Rmp0Gz2GL5OjDU",
      "include_colab_link": true
    },
    "kernelspec": {
      "name": "python3",
      "display_name": "Python 3"
    }
  },
  "cells": [
    {
      "cell_type": "markdown",
      "metadata": {
        "id": "view-in-github",
        "colab_type": "text"
      },
      "source": [
        "<a href=\"https://colab.research.google.com/github/905902029/-a-/blob/master/9.ipynb\" target=\"_parent\"><img src=\"https://colab.research.google.com/assets/colab-badge.svg\" alt=\"Open In Colab\"/></a>"
      ]
    },
    {
      "cell_type": "code",
      "metadata": {
        "id": "EbB5yrsNSoEE",
        "colab_type": "code",
        "colab": {}
      },
      "source": [
        "\n",
        "def total_numbers_1(a, b):\n",
        "    print(a+b)\n",
        "\n",
        "def total_numbers_2(a,b):\n",
        "    return (a+b)"
      ],
      "execution_count": 0,
      "outputs": []
    },
    {
      "cell_type": "code",
      "metadata": {
        "id": "UHgwBuFsSts6",
        "colab_type": "code",
        "colab": {
          "base_uri": "https://localhost:8080/",
          "height": 389
        },
        "outputId": "6a10efc6-04b9-44ad-a753-4f628f098c57"
      },
      "source": [
        "\n",
        "total = total_numbers_1(3,7)\n",
        "print(total)\n",
        "add_again = total_numbers_1(total, 3)\n",
        "print(add_again)"
      ],
      "execution_count": 2,
      "outputs": [
        {
          "output_type": "stream",
          "text": [
            "10\n",
            "None\n"
          ],
          "name": "stdout"
        },
        {
          "output_type": "error",
          "ename": "TypeError",
          "evalue": "ignored",
          "traceback": [
            "\u001b[0;31m---------------------------------------------------------------------------\u001b[0m",
            "\u001b[0;31mTypeError\u001b[0m                                 Traceback (most recent call last)",
            "\u001b[0;32m<ipython-input-2-0582fb116a49>\u001b[0m in \u001b[0;36m<module>\u001b[0;34m()\u001b[0m\n\u001b[1;32m      2\u001b[0m \u001b[0mtotal\u001b[0m \u001b[0;34m=\u001b[0m \u001b[0mtotal_numbers_1\u001b[0m\u001b[0;34m(\u001b[0m\u001b[0;36m3\u001b[0m\u001b[0;34m,\u001b[0m\u001b[0;36m7\u001b[0m\u001b[0;34m)\u001b[0m\u001b[0;34m\u001b[0m\u001b[0;34m\u001b[0m\u001b[0m\n\u001b[1;32m      3\u001b[0m \u001b[0mprint\u001b[0m\u001b[0;34m(\u001b[0m\u001b[0mtotal\u001b[0m\u001b[0;34m)\u001b[0m\u001b[0;34m\u001b[0m\u001b[0;34m\u001b[0m\u001b[0m\n\u001b[0;32m----> 4\u001b[0;31m \u001b[0madd_again\u001b[0m \u001b[0;34m=\u001b[0m \u001b[0mtotal_numbers_1\u001b[0m\u001b[0;34m(\u001b[0m\u001b[0mtotal\u001b[0m\u001b[0;34m,\u001b[0m \u001b[0;36m3\u001b[0m\u001b[0;34m)\u001b[0m\u001b[0;34m\u001b[0m\u001b[0;34m\u001b[0m\u001b[0m\n\u001b[0m\u001b[1;32m      5\u001b[0m \u001b[0mprint\u001b[0m\u001b[0;34m(\u001b[0m\u001b[0madd_again\u001b[0m\u001b[0;34m)\u001b[0m\u001b[0;34m\u001b[0m\u001b[0;34m\u001b[0m\u001b[0m\n",
            "\u001b[0;32m<ipython-input-1-1eebe58134d8>\u001b[0m in \u001b[0;36mtotal_numbers_1\u001b[0;34m(a, b)\u001b[0m\n\u001b[1;32m      1\u001b[0m \u001b[0;34m\u001b[0m\u001b[0m\n\u001b[1;32m      2\u001b[0m \u001b[0;32mdef\u001b[0m \u001b[0mtotal_numbers_1\u001b[0m\u001b[0;34m(\u001b[0m\u001b[0ma\u001b[0m\u001b[0;34m,\u001b[0m \u001b[0mb\u001b[0m\u001b[0;34m)\u001b[0m\u001b[0;34m:\u001b[0m\u001b[0;34m\u001b[0m\u001b[0;34m\u001b[0m\u001b[0m\n\u001b[0;32m----> 3\u001b[0;31m     \u001b[0mprint\u001b[0m\u001b[0;34m(\u001b[0m\u001b[0ma\u001b[0m\u001b[0;34m+\u001b[0m\u001b[0mb\u001b[0m\u001b[0;34m)\u001b[0m\u001b[0;34m\u001b[0m\u001b[0;34m\u001b[0m\u001b[0m\n\u001b[0m\u001b[1;32m      4\u001b[0m \u001b[0;34m\u001b[0m\u001b[0m\n\u001b[1;32m      5\u001b[0m \u001b[0;32mdef\u001b[0m \u001b[0mtotal_numbers_2\u001b[0m\u001b[0;34m(\u001b[0m\u001b[0ma\u001b[0m\u001b[0;34m,\u001b[0m\u001b[0mb\u001b[0m\u001b[0;34m)\u001b[0m\u001b[0;34m:\u001b[0m\u001b[0;34m\u001b[0m\u001b[0;34m\u001b[0m\u001b[0m\n",
            "\u001b[0;31mTypeError\u001b[0m: unsupported operand type(s) for +: 'NoneType' and 'int'"
          ]
        }
      ]
    },
    {
      "cell_type": "code",
      "metadata": {
        "id": "JOnmt4SESvbc",
        "colab_type": "code",
        "colab": {
          "base_uri": "https://localhost:8080/",
          "height": 53
        },
        "outputId": "8d5a3401-a74f-47d1-a058-e40ef8199eaa"
      },
      "source": [
        "\n",
        "total = total_numbers_2(3,7)\n",
        "print(total)\n",
        "add_again = total_numbers_2(total, 3)\n",
        "print(add_again)"
      ],
      "execution_count": 3,
      "outputs": [
        {
          "output_type": "stream",
          "text": [
            "10\n",
            "13\n"
          ],
          "name": "stdout"
        }
      ]
    },
    {
      "cell_type": "code",
      "metadata": {
        "id": "RZZ5z8zOSwny",
        "colab_type": "code",
        "colab": {
          "base_uri": "https://localhost:8080/",
          "height": 35
        },
        "outputId": "ce90492d-3c4c-4f47-ec87-471a86176c02"
      },
      "source": [
        "\n",
        "def how_many_hours(minutes):\n",
        "    hours = minutes // 60\n",
        "    remainder = minutes % 60\n",
        "    return \"{} 時間 {} 分\".format(hours, remainder)\n",
        "\n",
        "print(how_many_hours(215))"
      ],
      "execution_count": 7,
      "outputs": [
        {
          "output_type": "stream",
          "text": [
            "3 時間 35 分\n"
          ],
          "name": "stdout"
        }
      ]
    },
    {
      "cell_type": "code",
      "metadata": {
        "id": "6bOgBgpISxs2",
        "colab_type": "code",
        "colab": {
          "base_uri": "https://localhost:8080/",
          "height": 35
        },
        "outputId": "1ba017c9-1b69-4f5a-c4f6-67020f250f0b"
      },
      "source": [
        "multiply = lambda x, y: x * y\n",
        "multiply (2,3)"
      ],
      "execution_count": 8,
      "outputs": [
        {
          "output_type": "execute_result",
          "data": {
            "text/plain": [
              "6"
            ]
          },
          "metadata": {
            "tags": []
          },
          "execution_count": 8
        }
      ]
    },
    {
      "cell_type": "code",
      "metadata": {
        "id": "5kYOwIXgSzDY",
        "colab_type": "code",
        "colab": {
          "base_uri": "https://localhost:8080/",
          "height": 35
        },
        "outputId": "519aec9c-f520-4da7-9bfd-4d1af729039d"
      },
      "source": [
        "def multiply(x,y):\n",
        "    return x*y\n",
        "print(multiply(2,3))"
      ],
      "execution_count": 9,
      "outputs": [
        {
          "output_type": "stream",
          "text": [
            "6\n"
          ],
          "name": "stdout"
        }
      ]
    },
    {
      "cell_type": "code",
      "metadata": {
        "id": "MxAf9GhkS0jO",
        "colab_type": "code",
        "colab": {
          "base_uri": "https://localhost:8080/",
          "height": 35
        },
        "outputId": "98019f09-b1b7-48fc-dfb0-2ae71d68ecbf"
      },
      "source": [
        "data = [{'動物': 'うま', '年齢': 3},\n",
        "        {'動物': 'ねこ', '年齢': 1},\n",
        "        {'動物': 'きりん', '年齢': 5}]\n",
        "\n",
        "sorted(data, key=lambda item: item['動物'])"
      ],
      "execution_count": 10,
      "outputs": [
        {
          "output_type": "execute_result",
          "data": {
            "text/plain": [
              "[{'動物': 'うま', '年齢': 3}, {'動物': 'きりん', '年齢': 5}, {'動物': 'ねこ', '年齢': 1}]"
            ]
          },
          "metadata": {
            "tags": []
          },
          "execution_count": 10
        }
      ]
    },
    {
      "cell_type": "code",
      "metadata": {
        "id": "b3zRbW9cS2DW",
        "colab_type": "code",
        "colab": {
          "base_uri": "https://localhost:8080/",
          "height": 53
        },
        "outputId": "ed054b8c-154b-431f-9558-772cb32be63e"
      },
      "source": [
        "class Animal:\n",
        "    def __init__(self, animal_name, amounts):\n",
        "        self.animal_name = animal_name\n",
        "        self.amounts = amounts\n",
        "        \n",
        "a1 = Animal(\"ねこ\", 4)\n",
        "\n",
        "print(a1.animal_name)\n",
        "print(a1.amounts)"
      ],
      "execution_count": 11,
      "outputs": [
        {
          "output_type": "stream",
          "text": [
            "ねこ\n",
            "4\n"
          ],
          "name": "stdout"
        }
      ]
    },
    {
      "cell_type": "code",
      "metadata": {
        "id": "EDiC6zq3S3St",
        "colab_type": "code",
        "colab": {
          "base_uri": "https://localhost:8080/",
          "height": 35
        },
        "outputId": "f564cbc2-45f0-49a4-d0ee-3a60c38011b7"
      },
      "source": [
        "class Animal:\n",
        "    def __init__(self, animal_name, amounts):\n",
        "        self.animal_name = animal_name\n",
        "        self.amounts = amounts\n",
        "    \n",
        "    def myfunc(self):\n",
        "        return (\"この動物園では、{}が{}匹います。\".format(self.animal_name, self.amounts))\n",
        "        \n",
        "a1 = Animal(\"ねこ\", 4)\n",
        "print(a1.myfunc())"
      ],
      "execution_count": 12,
      "outputs": [
        {
          "output_type": "stream",
          "text": [
            "この動物園では、ねこが4匹います。\n"
          ],
          "name": "stdout"
        }
      ]
    },
    {
      "cell_type": "code",
      "metadata": {
        "id": "dHddyeQfS4qW",
        "colab_type": "code",
        "colab": {
          "base_uri": "https://localhost:8080/",
          "height": 35
        },
        "outputId": "8c5115e4-7aff-4ae6-be53-3125c27c069b"
      },
      "source": [
        "class Animal:\n",
        "    def __init__(anything, animal_name, amounts):\n",
        "        anything.animal_name = animal_name\n",
        "        anything.amounts = amounts\n",
        "    \n",
        "    def myfunc(abc):\n",
        "        return(\"この動物園では、{}が{}匹います。\".format(abc.animal_name, abc.amounts))\n",
        "        \n",
        "a1 = Animal(\"ねこ\", 4)\n",
        "print(a1.myfunc())"
      ],
      "execution_count": 13,
      "outputs": [
        {
          "output_type": "stream",
          "text": [
            "この動物園では、ねこが4匹います。\n"
          ],
          "name": "stdout"
        }
      ]
    },
    {
      "cell_type": "code",
      "metadata": {
        "id": "JExV7QrmS6P3",
        "colab_type": "code",
        "colab": {
          "base_uri": "https://localhost:8080/",
          "height": 35
        },
        "outputId": "ba522c2b-3393-4ffe-eb00-d366dc20bee3"
      },
      "source": [
        "class Add:\n",
        "  def __init__(self,a,b):\n",
        "    self.a = a\n",
        "    self.b = b\n",
        "  def plus(self):\n",
        "    return self.a+self.b\n",
        "\n",
        "abc = Add(1,2)\n",
        "abc.plus()"
      ],
      "execution_count": 14,
      "outputs": [
        {
          "output_type": "execute_result",
          "data": {
            "text/plain": [
              "3"
            ]
          },
          "metadata": {
            "tags": []
          },
          "execution_count": 14
        }
      ]
    }
  ]
}